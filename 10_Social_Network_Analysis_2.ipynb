{
 "cells": [
  {
   "attachments": {},
   "cell_type": "markdown",
   "metadata": {},
   "source": [
    "# Social Network Analysis"
   ]
  },
  {
   "cell_type": "code",
   "execution_count": 1,
   "metadata": {},
   "outputs": [],
   "source": [
    "import pandas as pd\n",
    "import numpy as np\n",
    "from datetime import date\n",
    "from IPython.display import Markdown, display\n",
    "import matplotlib.pyplot as plt\n",
    "import seaborn as sns\n",
    "import networkx as nx"
   ]
  },
  {
   "cell_type": "code",
   "execution_count": 2,
   "metadata": {},
   "outputs": [],
   "source": [
    "#!pip install pm4py --user\n",
    "from pm4py.objects.conversion.log import converter as log_converter\n",
    "from pm4py.objects.log.importer.xes import importer as xes_importer\n",
    "\n",
    "# process mining \n",
    "from pm4py.algo.discovery.alpha import algorithm as alpha_miner\n",
    "from pm4py.algo.discovery.inductive import algorithm as inductive_miner\n",
    "from pm4py.algo.discovery.heuristics import algorithm as heuristics_miner\n",
    "from pm4py.algo.discovery.dfg import algorithm as dfg_discovery\n",
    "from pm4py.algo.discovery.footprints import algorithm as footprints_discovery\n",
    "\n",
    "\n",
    "# viz\n",
    "from pm4py.visualization.petri_net import visualizer as pn_visualizer\n",
    "from pm4py.visualization.footprints import visualizer as fp_visualizer\n",
    "from pm4py.visualization.transition_system import visualizer as ts_visualizer\n",
    "from pm4py.visualization.process_tree import visualizer as pt_visualizer\n",
    "from pm4py.visualization.heuristics_net import visualizer as hn_visualizer\n",
    "from pm4py.visualization.dfg import visualizer as dfg_visualization\n",
    "\n",
    "# conformance\n",
    "from pm4py.algo.conformance.footprints import algorithm as fp_conformance\n",
    "from pm4py import conformance_diagnostics_token_based_replay\n",
    "from pm4py.algo.conformance.alignments.edit_distance import algorithm as logs_alignments\n",
    "\n",
    "# misc \n",
    "from pm4py.objects.petri_net.utils import reachability_graph\n",
    "from pm4py.objects.conversion.process_tree import converter as pt_converter\n",
    "from pm4py.objects.petri_net.obj import PetriNet, Marking\n",
    "\n",
    "import pm4py"
   ]
  },
  {
   "cell_type": "code",
   "execution_count": 3,
   "metadata": {},
   "outputs": [],
   "source": [
    "events_array = [[1, \"Bestellen\", pd.to_datetime(\"01/01/1970\"),\"Sue\"],\n",
    "          [1, \"Servieren\", pd.to_datetime(\"01/02/1970\"),\"Alan\"],\n",
    "          [1, \"Kassieren\", pd.to_datetime(\"01/03/1970\"),\"Sara\"],\n",
    "          [2, \"Bestellen\", pd.to_datetime(\"01/01/1970\"),\"Cara\"],\n",
    "          [2, \"Servieren\", pd.to_datetime(\"01/02/1970\"),\"Alan\"],\n",
    "          [2, \"Kassieren\", pd.to_datetime(\"01/03/1970\"),\"Sara\"],\n",
    "          ]"
   ]
  },
  {
   "cell_type": "code",
   "execution_count": 4,
   "metadata": {},
   "outputs": [],
   "source": [
    "events = pd.DataFrame(events_array, columns=[ 'case:concept:name', 'concept:name', 'time:timestamp', 'org:resource'])"
   ]
  },
  {
   "cell_type": "code",
   "execution_count": 5,
   "metadata": {},
   "outputs": [],
   "source": [
    "log = log_converter.apply(events)"
   ]
  },
  {
   "cell_type": "code",
   "execution_count": 6,
   "metadata": {},
   "outputs": [
    {
     "data": {
      "text/plain": [
       "{('Bestellen', 'Servieren'), ('Servieren', 'Kassieren')}"
      ]
     },
     "execution_count": 6,
     "metadata": {},
     "output_type": "execute_result"
    }
   ],
   "source": [
    "# footprint\n",
    "from pm4py.algo.discovery.footprints import algorithm as footprints_discovery\n",
    "footprint = footprints_discovery.apply(log, variant=footprints_discovery.Variants.ENTIRE_EVENT_LOG)\n",
    "footprint['sequence']\n",
    "\n",
    "\n"
   ]
  },
  {
   "cell_type": "code",
   "execution_count": 7,
   "metadata": {},
   "outputs": [
    {
     "data": {
      "image/png": "[encoded data removed]",
      "text/plain": [
       "<IPython.core.display.Image object>"
      ]
     },
     "metadata": {},
     "output_type": "display_data"
    }
   ],
   "source": [
    "from pm4py.visualization.footprints import visualizer as fp_visualizer\n",
    "\n",
    "gviz = fp_visualizer.apply(footprint)\n",
    "fp_visualizer.view(gviz)"
   ]
  },
  {
   "cell_type": "code",
   "execution_count": 8,
   "metadata": {},
   "outputs": [
    {
     "name": "stderr",
     "output_type": "stream",
     "text": [
      "c:\\Program Files\\Anaconda3\\lib\\site-packages\\pm4py\\utils.py:503: UserWarning: the EventLog class has been deprecated and will be removed in a future release.\n",
      "  warnings.warn(\"the EventLog class has been deprecated and will be removed in a future release.\")\n"
     ]
    }
   ],
   "source": [
    "hw_values = pm4py.discover_handover_of_work_network(log, beta=0)"
   ]
  },
  {
   "cell_type": "code",
   "execution_count": 11,
   "metadata": {},
   "outputs": [
    {
     "data": {
      "text/html": [
       "<div>\n",
       "<style scoped>\n",
       "    .dataframe tbody tr th:only-of-type {\n",
       "        vertical-align: middle;\n",
       "    }\n",
       "\n",
       "    .dataframe tbody tr th {\n",
       "        vertical-align: top;\n",
       "    }\n",
       "\n",
       "    .dataframe thead th {\n",
       "        text-align: right;\n",
       "    }\n",
       "</style>\n",
       "<table border=\"1\" class=\"dataframe\">\n",
       "  <thead>\n",
       "    <tr style=\"text-align: right;\">\n",
       "      <th></th>\n",
       "      <th>Cara</th>\n",
       "      <th>Alan</th>\n",
       "      <th>Sara</th>\n",
       "      <th>Sue</th>\n",
       "    </tr>\n",
       "  </thead>\n",
       "  <tbody>\n",
       "    <tr>\n",
       "      <th>Cara</th>\n",
       "      <td>0</td>\n",
       "      <td>0.25</td>\n",
       "      <td>0.0</td>\n",
       "      <td>0</td>\n",
       "    </tr>\n",
       "    <tr>\n",
       "      <th>Alan</th>\n",
       "      <td>0</td>\n",
       "      <td>0.00</td>\n",
       "      <td>0.5</td>\n",
       "      <td>0</td>\n",
       "    </tr>\n",
       "    <tr>\n",
       "      <th>Sara</th>\n",
       "      <td>0</td>\n",
       "      <td>0.00</td>\n",
       "      <td>0.0</td>\n",
       "      <td>0</td>\n",
       "    </tr>\n",
       "    <tr>\n",
       "      <th>Sue</th>\n",
       "      <td>0</td>\n",
       "      <td>0.25</td>\n",
       "      <td>0.0</td>\n",
       "      <td>0</td>\n",
       "    </tr>\n",
       "  </tbody>\n",
       "</table>\n",
       "</div>"
      ],
      "text/plain": [
       "      Cara  Alan  Sara  Sue\n",
       "Cara     0  0.25   0.0    0\n",
       "Alan     0  0.00   0.5    0\n",
       "Sara     0  0.00   0.0    0\n",
       "Sue      0  0.25   0.0    0"
      ]
     },
     "execution_count": 11,
     "metadata": {},
     "output_type": "execute_result"
    }
   ],
   "source": [
    "# hw_values to dataframe\n",
    "connections=hw_values.connections\n",
    "names = list(set([connection[0] for connection in connections]+[connection[1] for connection in connections]))\n",
    "rows = []\n",
    "for name in names:\n",
    "    cols = []\n",
    "    for subname in names:\n",
    "        try:\n",
    "            cols.append(connections[(name, subname)])\n",
    "        except KeyError:\n",
    "            cols.append(0)\n",
    "    rows.append(cols)\n",
    "rows\n",
    "\n",
    "df = pd.DataFrame(rows, index=names, columns=names)\n",
    "df"
   ]
  },
  {
   "cell_type": "code",
   "execution_count": 16,
   "metadata": {},
   "outputs": [
    {
     "data": {
      "text/plain": [
       "['Cara', 'Alan', 'Sara', 'Sue']"
      ]
     },
     "execution_count": 16,
     "metadata": {},
     "output_type": "execute_result"
    }
   ],
   "source": [
    "list(df.index)"
   ]
  },
  {
   "cell_type": "code",
   "execution_count": 17,
   "metadata": {},
   "outputs": [
    {
     "data": {
      "image/png": "[encoded data removed]",
      "text/plain": [
       "<Figure size 640x480 with 1 Axes>"
      ]
     },
     "metadata": {},
     "output_type": "display_data"
    }
   ],
   "source": [
    "# depict distances as network with networkx\n",
    "import networkx as nx\n",
    "G_hw = nx.from_numpy_array(df.values, create_using=nx.DiGraph)\n",
    "G_hw = nx.relabel_nodes(G_hw, dict(zip(range(len(df.index)), df.index)))\n",
    "mywidth = [i * 10 for i in list(nx.get_edge_attributes(G_hw,'weight').values())]\n",
    "nx.draw(G_hw, with_labels=True, node_size=500, font_size=8, width=mywidth)\n"
   ]
  },
  {
   "cell_type": "code",
   "execution_count": 18,
   "metadata": {},
   "outputs": [
    {
     "data": {
      "text/plain": [
       "{'Cara': 0.3333333333333333,\n",
       " 'Alan': 1.0,\n",
       " 'Sara': 0.3333333333333333,\n",
       " 'Sue': 0.3333333333333333}"
      ]
     },
     "execution_count": 18,
     "metadata": {},
     "output_type": "execute_result"
    }
   ],
   "source": [
    "# degree centrality for edges in G_hw that ignores edge weights\n",
    "nx.degree_centrality(G_hw)"
   ]
  },
  {
   "cell_type": "code",
   "execution_count": 19,
   "metadata": {},
   "outputs": [
    {
     "data": {
      "text/plain": [
       "DiDegreeView({'Cara': 0.25, 'Alan': 1.0, 'Sara': 0.5, 'Sue': 0.25})"
      ]
     },
     "execution_count": 19,
     "metadata": {},
     "output_type": "execute_result"
    }
   ],
   "source": [
    "# degree centrality for edges in G_hw considering edge weights\n",
    "G_hw.degree(weight='weight')"
   ]
  },
  {
   "cell_type": "code",
   "execution_count": 20,
   "metadata": {},
   "outputs": [],
   "source": [
    "# add distance attribute to G_hw\n",
    "g_distance_dict = {(e1, e2): 1 / weight for e1, e2, weight in G_hw.edges(data='weight')}\n",
    "nx.set_edge_attributes(G_hw, g_distance_dict, 'distance')"
   ]
  },
  {
   "cell_type": "code",
   "execution_count": 21,
   "metadata": {},
   "outputs": [
    {
     "data": {
      "text/plain": [
       "{'Cara': 0.0, 'Alan': 2.0, 'Sara': 0.0, 'Sue': 0.0}"
      ]
     },
     "execution_count": 21,
     "metadata": {},
     "output_type": "execute_result"
    }
   ],
   "source": [
    "nx.betweenness_centrality(G_hw, weight='distance', normalized=False)"
   ]
  },
  {
   "cell_type": "code",
   "execution_count": 22,
   "metadata": {},
   "outputs": [
    {
     "data": {
      "image/png": "[encoded data removed]",
      "text/plain": [
       "<Figure size 640x480 with 1 Axes>"
      ]
     },
     "metadata": {},
     "output_type": "display_data"
    }
   ],
   "source": [
    "mydistance = [i  for i in list(nx.get_edge_attributes(G_hw,'distance').values())]\n",
    "nx.draw(G_hw, with_labels=True, node_size=500, font_size=8, width=mydistance)"
   ]
  },
  {
   "cell_type": "code",
   "execution_count": null,
   "metadata": {},
   "outputs": [],
   "source": []
  }
 ],
 "metadata": {
  "kernelspec": {
   "display_name": "base",
   "language": "python",
   "name": "python3"
  },
  "language_info": {
   "codemirror_mode": {
    "name": "ipython",
    "version": 3
   },
   "file_extension": ".py",
   "mimetype": "text/x-python",
   "name": "python",
   "nbconvert_exporter": "python",
   "pygments_lexer": "ipython3",
   "version": "3.7.3"
  },
  "vscode": {
   "interpreter": {
    "hash": "deb4792152b8b9767403eeef0a1b0f34b83d442136ccee9184cd7d1131f09aa0"
   }
  }
 },
 "nbformat": 4,
 "nbformat_minor": 2
}
