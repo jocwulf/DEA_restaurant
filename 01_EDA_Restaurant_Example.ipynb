{
 "cells": [
  {
   "cell_type": "code",
   "execution_count": null,
   "id": "95988c4d",
   "metadata": {},
   "outputs": [],
   "source": [
    "# data provided by Bordoloi, Sanjeev, James Fitzsimmons, and Mona Fitzsimmons. Service management: Operations, strategy, information technology, 9e. New York: McGraw-Hill Education, 2019.\n",
    "# tutorial: https://realpython.com/linear-programming-python/\n",
    "# linprog docu: https://docs.scipy.org/doc/scipy/reference/generated/scipy.optimize.linprog.html"
   ]
  },
  {
   "cell_type": "code",
   "execution_count": 2,
   "id": "0318aa87",
   "metadata": {},
   "outputs": [],
   "source": [
    "from scipy.optimize import linprog"
   ]
  },
  {
   "cell_type": "code",
   "execution_count": null,
   "id": "cc5c71ac",
   "metadata": {},
   "outputs": [],
   "source": [
    "# Serviceeinheit 1"
   ]
  },
  {
   "cell_type": "code",
   "execution_count": 10,
   "id": "53bff278",
   "metadata": {},
   "outputs": [],
   "source": [
    "obj = [-100, 0, 0] # da linprog nur minimiert gilt folgende Rechenregel für die Zielfunktion: max(f(x))=-min(-f(x))"
   ]
  },
  {
   "cell_type": "code",
   "execution_count": 11,
   "id": "e5864c2a",
   "metadata": {},
   "outputs": [],
   "source": [
    "lhs_ineq = [[ 100,  -2, -200],  # 1\n",
    "            [ 100,  -4, -150],  # 2\n",
    "            [ 100,  -4, -100],  # 3\n",
    "            [ 100,  -6, -100],  # 4\n",
    "            [ 100,  -8, -80],  # 5\n",
    "            [ 100,  -10, -50]]  # 6"
   ]
  },
  {
   "cell_type": "code",
   "execution_count": 12,
   "id": "bc14af6e",
   "metadata": {},
   "outputs": [],
   "source": [
    "rhs_ineq = [0,0,0,0,0,0]"
   ]
  },
  {
   "cell_type": "code",
   "execution_count": 13,
   "id": "0b680ab0",
   "metadata": {},
   "outputs": [],
   "source": [
    "lhs_eq = [[ 0,  2, 200]] \n",
    "rhs_eq = [1]"
   ]
  },
  {
   "cell_type": "code",
   "execution_count": 14,
   "id": "24196d7b",
   "metadata": {},
   "outputs": [],
   "source": [
    "bnd = [(0, float(\"inf\")),  # Bounds of u1\n",
    "       (0, float(\"inf\")),  # Bounds of v1\n",
    "       (0, float(\"inf\"))]  # Bounds of v2"
   ]
  },
  {
   "cell_type": "code",
   "execution_count": 15,
   "id": "2d7def7b",
   "metadata": {},
   "outputs": [],
   "source": [
    "opt = linprog(c=obj, A_ub=lhs_ineq, b_ub=rhs_ineq,\n",
    "              A_eq=lhs_eq, b_eq=rhs_eq, bounds=bnd,\n",
    "              method=\"revised simplex\")"
   ]
  },
  {
   "cell_type": "code",
   "execution_count": 16,
   "id": "6572212d",
   "metadata": {},
   "outputs": [
    {
     "data": {
      "text/plain": [
       "     con: array([0.])\n",
       "     fun: -1.0\n",
       " message: 'Optimization terminated successfully.'\n",
       "     nit: 4\n",
       "   slack: array([1.11022302e-16, 1.66666667e-01, 0.00000000e+00, 3.33333333e-01,\n",
       "       6.00000000e-01, 8.33333333e-01])\n",
       "  status: 0\n",
       " success: True\n",
       "       x: array([0.01      , 0.16666667, 0.00333333])"
      ]
     },
     "execution_count": 16,
     "metadata": {},
     "output_type": "execute_result"
    }
   ],
   "source": [
    "opt"
   ]
  },
  {
   "cell_type": "code",
   "execution_count": 23,
   "id": "e3c361b0",
   "metadata": {},
   "outputs": [
    {
     "name": "stdout",
     "output_type": "stream",
     "text": [
      "efficiency: 1.0\n"
     ]
    }
   ],
   "source": [
    "print(\"efficiency: {}\".format(-1*opt.fun))"
   ]
  },
  {
   "cell_type": "code",
   "execution_count": 24,
   "id": "78e0a963",
   "metadata": {},
   "outputs": [],
   "source": [
    "# Serviceeinheit 2"
   ]
  },
  {
   "cell_type": "code",
   "execution_count": 25,
   "id": "f87dfe00",
   "metadata": {},
   "outputs": [],
   "source": [
    "obj = [-100, 0, 0]"
   ]
  },
  {
   "cell_type": "code",
   "execution_count": 26,
   "id": "95ed4f42",
   "metadata": {},
   "outputs": [],
   "source": [
    "lhs_ineq = [[ 100,  -2, -200],  # 1\n",
    "            [ 100,  -4, -150],  # 2\n",
    "            [ 100,  -4, -100],  # 3\n",
    "            [ 100,  -6, -100],  # 4\n",
    "            [ 100,  -8, -80],  # 5\n",
    "            [ 100,  -10, -50]]  # 6"
   ]
  },
  {
   "cell_type": "code",
   "execution_count": 27,
   "id": "ba151fc4",
   "metadata": {},
   "outputs": [],
   "source": [
    "rhs_ineq = [0,0,0,0,0,0]"
   ]
  },
  {
   "cell_type": "code",
   "execution_count": 28,
   "id": "7d1de2c3",
   "metadata": {},
   "outputs": [],
   "source": [
    "lhs_eq = [[ 0,  4, 150]] \n",
    "rhs_eq = [1]"
   ]
  },
  {
   "cell_type": "code",
   "execution_count": 29,
   "id": "37ac0e92",
   "metadata": {},
   "outputs": [],
   "source": [
    "bnd = [(0, float(\"inf\")),  # Bounds of u1\n",
    "       (0, float(\"inf\")),  # Bounds of v1\n",
    "       (0, float(\"inf\"))]  # Bounds of v2"
   ]
  },
  {
   "cell_type": "code",
   "execution_count": 30,
   "id": "a302f8bf",
   "metadata": {},
   "outputs": [],
   "source": [
    "opt = linprog(c=obj, A_ub=lhs_ineq, b_ub=rhs_ineq,\n",
    "              A_eq=lhs_eq, b_eq=rhs_eq, bounds=bnd,\n",
    "              method=\"revised simplex\")"
   ]
  },
  {
   "cell_type": "code",
   "execution_count": 31,
   "id": "dfc72ec2",
   "metadata": {},
   "outputs": [
    {
     "data": {
      "text/plain": [
       "     con: array([0.])\n",
       "     fun: -0.8571428571428573\n",
       " message: 'Optimization terminated successfully.'\n",
       "     nit: 4\n",
       "   slack: array([ 1.11022302e-16,  1.42857143e-01, -1.11022302e-16,  2.85714286e-01,\n",
       "        5.14285714e-01,  7.14285714e-01])\n",
       "  status: 0\n",
       " success: True\n",
       "       x: array([0.00857143, 0.14285714, 0.00285714])"
      ]
     },
     "execution_count": 31,
     "metadata": {},
     "output_type": "execute_result"
    }
   ],
   "source": [
    "opt"
   ]
  },
  {
   "cell_type": "code",
   "execution_count": 32,
   "id": "11d38299",
   "metadata": {},
   "outputs": [
    {
     "name": "stdout",
     "output_type": "stream",
     "text": [
      "efficiency: 0.8571428571428573\n"
     ]
    }
   ],
   "source": [
    "print(\"efficiency: {}\".format(-1*opt.fun))"
   ]
  }
 ],
 "metadata": {
  "kernelspec": {
   "display_name": "Python 3 (ipykernel)",
   "language": "python",
   "name": "python3"
  },
  "language_info": {
   "codemirror_mode": {
    "name": "ipython",
    "version": 3
   },
   "file_extension": ".py",
   "mimetype": "text/x-python",
   "name": "python",
   "nbconvert_exporter": "python",
   "pygments_lexer": "ipython3",
   "version": "3.7.3"
  }
 },
 "nbformat": 4,
 "nbformat_minor": 5
}
