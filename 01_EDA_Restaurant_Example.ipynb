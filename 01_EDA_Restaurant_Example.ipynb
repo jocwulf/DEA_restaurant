{
 "cells": [
  {
   "cell_type": "code",
   "execution_count": 1,
   "id": "95988c4d",
   "metadata": {},
   "outputs": [],
   "source": [
    "# data provided by Bordoloi, Sanjeev, James Fitzsimmons, and Mona Fitzsimmons. Service management: Operations, strategy, information technology, 9e. New York: McGraw-Hill Education, 2019.\n",
    "# tutorial: https://realpython.com/linear-programming-python/\n",
    "# linprog docu: https://docs.scipy.org/doc/scipy/reference/generated/scipy.optimize.linprog.html"
   ]
  },
  {
   "cell_type": "code",
   "execution_count": 2,
   "id": "0318aa87",
   "metadata": {},
   "outputs": [],
   "source": [
    "from scipy.optimize import linprog"
   ]
  },
  {
   "cell_type": "code",
   "execution_count": 3,
   "id": "cc5c71ac",
   "metadata": {},
   "outputs": [],
   "source": [
    "# Serviceeinheit 1"
   ]
  },
  {
   "cell_type": "code",
   "execution_count": 4,
   "id": "53bff278",
   "metadata": {},
   "outputs": [],
   "source": [
    "obj = [-100, 0, 0] # da linprog nur minimiert gilt folgende Rechenregel für die Zielfunktion: max(f(x))=-min(-f(x))"
   ]
  },
  {
   "cell_type": "code",
   "execution_count": 5,
   "id": "e5864c2a",
   "metadata": {},
   "outputs": [],
   "source": [
    "lhs_ineq = [[ 100,  -2, -200],  # 1\n",
    "            [ 100,  -4, -150],  # 2\n",
    "            [ 100,  -4, -100],  # 3\n",
    "            [ 100,  -6, -100],  # 4\n",
    "            [ 100,  -8, -80],  # 5\n",
    "            [ 100,  -10, -50]]  # 6"
   ]
  },
  {
   "cell_type": "code",
   "execution_count": 6,
   "id": "bc14af6e",
   "metadata": {},
   "outputs": [],
   "source": [
    "rhs_ineq = [0,0,0,0,0,0]"
   ]
  },
  {
   "cell_type": "code",
   "execution_count": 7,
   "id": "0b680ab0",
   "metadata": {},
   "outputs": [],
   "source": [
    "lhs_eq = [[ 0,  2, 200]] \n",
    "rhs_eq = [1]"
   ]
  },
  {
   "cell_type": "code",
   "execution_count": 8,
   "id": "24196d7b",
   "metadata": {},
   "outputs": [],
   "source": [
    "bnd = [(0, float(\"inf\")),  # Bounds of u1\n",
    "       (0, float(\"inf\")),  # Bounds of v1\n",
    "       (0, float(\"inf\"))]  # Bounds of v2"
   ]
  },
  {
   "cell_type": "code",
   "execution_count": 9,
   "id": "2d7def7b",
   "metadata": {},
   "outputs": [],
   "source": [
    "opt = linprog(c=obj, A_ub=lhs_ineq, b_ub=rhs_ineq,\n",
    "              A_eq=lhs_eq, b_eq=rhs_eq, bounds=bnd,\n",
    "              method=\"revised simplex\")"
   ]
  },
  {
   "cell_type": "code",
   "execution_count": 10,
   "id": "6572212d",
   "metadata": {},
   "outputs": [
    {
     "data": {
      "text/plain": [
       "     con: array([0.])\n",
       "     fun: -1.0\n",
       " message: 'Optimization terminated successfully.'\n",
       "     nit: 4\n",
       "   slack: array([1.11022302e-16, 1.66666667e-01, 0.00000000e+00, 3.33333333e-01,\n",
       "       6.00000000e-01, 8.33333333e-01])\n",
       "  status: 0\n",
       " success: True\n",
       "       x: array([0.01      , 0.16666667, 0.00333333])"
      ]
     },
     "execution_count": 10,
     "metadata": {},
     "output_type": "execute_result"
    }
   ],
   "source": [
    "opt"
   ]
  },
  {
   "cell_type": "code",
   "execution_count": 11,
   "id": "e3c361b0",
   "metadata": {},
   "outputs": [
    {
     "name": "stdout",
     "output_type": "stream",
     "text": [
      "Effizienz Serviceeinheit 1: 1.0\n",
      "Nutzengewichte Arbeitsstunde und Materialeinsatz: [0.16666667 0.00333333]\n"
     ]
    }
   ],
   "source": [
    "print(\"Effizienz Serviceeinheit 1: {}\".format(-1*opt.fun))\n",
    "print(\"Nutzengewichte Arbeitsstunde und Materialeinsatz: {}\".format(opt.x[1:]))"
   ]
  },
  {
   "cell_type": "code",
   "execution_count": 12,
   "id": "78e0a963",
   "metadata": {},
   "outputs": [],
   "source": [
    "# Serviceeinheit 2"
   ]
  },
  {
   "cell_type": "code",
   "execution_count": 13,
   "id": "f87dfe00",
   "metadata": {},
   "outputs": [],
   "source": [
    "obj = [-100, 0, 0]"
   ]
  },
  {
   "cell_type": "code",
   "execution_count": 14,
   "id": "95ed4f42",
   "metadata": {},
   "outputs": [],
   "source": [
    "lhs_ineq = [[ 100,  -2, -200],  # 1\n",
    "            [ 100,  -4, -150],  # 2\n",
    "            [ 100,  -4, -100],  # 3\n",
    "            [ 100,  -6, -100],  # 4\n",
    "            [ 100,  -8, -80],  # 5\n",
    "            [ 100,  -10, -50]]  # 6"
   ]
  },
  {
   "cell_type": "code",
   "execution_count": 15,
   "id": "ba151fc4",
   "metadata": {},
   "outputs": [],
   "source": [
    "rhs_ineq = [0,0,0,0,0,0]"
   ]
  },
  {
   "cell_type": "code",
   "execution_count": 16,
   "id": "7d1de2c3",
   "metadata": {},
   "outputs": [],
   "source": [
    "lhs_eq = [[ 0,  4, 150]] \n",
    "rhs_eq = [1]"
   ]
  },
  {
   "cell_type": "code",
   "execution_count": 17,
   "id": "37ac0e92",
   "metadata": {},
   "outputs": [],
   "source": [
    "bnd = [(0, float(\"inf\")),  # Bounds of u1\n",
    "       (0, float(\"inf\")),  # Bounds of v1\n",
    "       (0, float(\"inf\"))]  # Bounds of v2"
   ]
  },
  {
   "cell_type": "code",
   "execution_count": 18,
   "id": "a302f8bf",
   "metadata": {},
   "outputs": [],
   "source": [
    "opt = linprog(c=obj, A_ub=lhs_ineq, b_ub=rhs_ineq,\n",
    "              A_eq=lhs_eq, b_eq=rhs_eq, bounds=bnd,\n",
    "              method=\"revised simplex\")"
   ]
  },
  {
   "cell_type": "code",
   "execution_count": 19,
   "id": "dfc72ec2",
   "metadata": {},
   "outputs": [
    {
     "data": {
      "text/plain": [
       "     con: array([0.])\n",
       "     fun: -0.8571428571428573\n",
       " message: 'Optimization terminated successfully.'\n",
       "     nit: 4\n",
       "   slack: array([ 1.11022302e-16,  1.42857143e-01, -1.11022302e-16,  2.85714286e-01,\n",
       "        5.14285714e-01,  7.14285714e-01])\n",
       "  status: 0\n",
       " success: True\n",
       "       x: array([0.00857143, 0.14285714, 0.00285714])"
      ]
     },
     "execution_count": 19,
     "metadata": {},
     "output_type": "execute_result"
    }
   ],
   "source": [
    "opt"
   ]
  },
  {
   "cell_type": "code",
   "execution_count": 20,
   "id": "11d38299",
   "metadata": {
    "scrolled": true
   },
   "outputs": [
    {
     "name": "stdout",
     "output_type": "stream",
     "text": [
      "Effizienz Serviceeinheit 2: 0.8571428571428573\n",
      "Nutzengewichte Arbeitsstunde und Materialeinsatz: [0.14285714 0.00285714]\n"
     ]
    }
   ],
   "source": [
    "print(\"Effizienz Serviceeinheit 2: {}\".format(-1*opt.fun))\n",
    "print(\"Nutzengewichte Arbeitsstunde und Materialeinsatz: {}\".format(opt.x[1:]))"
   ]
  },
  {
   "cell_type": "code",
   "execution_count": 21,
   "id": "32eb2922",
   "metadata": {},
   "outputs": [],
   "source": [
    "# Serviceeinheit 3"
   ]
  },
  {
   "cell_type": "code",
   "execution_count": 22,
   "id": "23ba86f3",
   "metadata": {},
   "outputs": [],
   "source": [
    "obj = [-100, 0, 0]"
   ]
  },
  {
   "cell_type": "code",
   "execution_count": 23,
   "id": "ed4ecedf",
   "metadata": {},
   "outputs": [],
   "source": [
    "lhs_ineq = [[ 100,  -2, -200],  # 1\n",
    "            [ 100,  -4, -150],  # 2\n",
    "            [ 100,  -4, -100],  # 3\n",
    "            [ 100,  -6, -100],  # 4\n",
    "            [ 100,  -8, -80],  # 5\n",
    "            [ 100,  -10, -50]]  # 6"
   ]
  },
  {
   "cell_type": "code",
   "execution_count": 24,
   "id": "fda77362",
   "metadata": {},
   "outputs": [],
   "source": [
    "rhs_ineq = [0,0,0,0,0,0]"
   ]
  },
  {
   "cell_type": "code",
   "execution_count": 25,
   "id": "4f6a3fd3",
   "metadata": {},
   "outputs": [],
   "source": [
    "lhs_eq = [[ 0,  4, 100]] \n",
    "rhs_eq = [1]"
   ]
  },
  {
   "cell_type": "code",
   "execution_count": 26,
   "id": "64471d91",
   "metadata": {},
   "outputs": [],
   "source": [
    "bnd = [(0, float(\"inf\")),  # Bounds of u1\n",
    "       (0, float(\"inf\")),  # Bounds of v1\n",
    "       (0, float(\"inf\"))]  # Bounds of v2"
   ]
  },
  {
   "cell_type": "code",
   "execution_count": 27,
   "id": "849e4b5e",
   "metadata": {},
   "outputs": [],
   "source": [
    "opt = linprog(c=obj, A_ub=lhs_ineq, b_ub=rhs_ineq,\n",
    "              A_eq=lhs_eq, b_eq=rhs_eq, bounds=bnd,\n",
    "              method=\"revised simplex\")"
   ]
  },
  {
   "cell_type": "code",
   "execution_count": 28,
   "id": "0cea715e",
   "metadata": {},
   "outputs": [
    {
     "data": {
      "text/plain": [
       "     con: array([0.])\n",
       "     fun: -1.0\n",
       " message: 'Optimization terminated successfully.'\n",
       "     nit: 3\n",
       "   slack: array([0.625, 0.375, 0.   , 0.125, 0.1  , 0.   ])\n",
       "  status: 0\n",
       " success: True\n",
       "       x: array([0.01  , 0.0625, 0.0075])"
      ]
     },
     "execution_count": 28,
     "metadata": {},
     "output_type": "execute_result"
    }
   ],
   "source": [
    "opt"
   ]
  },
  {
   "cell_type": "code",
   "execution_count": 29,
   "id": "048c3fb2",
   "metadata": {},
   "outputs": [
    {
     "name": "stdout",
     "output_type": "stream",
     "text": [
      "Effizienz Serviceeinheit 3: 1.0\n",
      "Nutzengewichte Arbeitsstunde und Materialeinsatz: [0.0625 0.0075]\n"
     ]
    }
   ],
   "source": [
    "print(\"Effizienz Serviceeinheit 3: {}\".format(-1*opt.fun))\n",
    "print(\"Nutzengewichte Arbeitsstunde und Materialeinsatz: {}\".format(opt.x[1:]))"
   ]
  },
  {
   "cell_type": "code",
   "execution_count": 30,
   "id": "3e44ffa4",
   "metadata": {},
   "outputs": [],
   "source": [
    "# Serviceeinheit 4"
   ]
  },
  {
   "cell_type": "code",
   "execution_count": 31,
   "id": "351890d4",
   "metadata": {},
   "outputs": [],
   "source": [
    "obj = [-100, 0, 0]"
   ]
  },
  {
   "cell_type": "code",
   "execution_count": 32,
   "id": "7ce14bcd",
   "metadata": {},
   "outputs": [],
   "source": [
    "lhs_ineq = [[ 100,  -2, -200],  # 1\n",
    "            [ 100,  -4, -150],  # 2\n",
    "            [ 100,  -4, -100],  # 3\n",
    "            [ 100,  -6, -100],  # 4\n",
    "            [ 100,  -8, -80],  # 5\n",
    "            [ 100,  -10, -50]]  # 6"
   ]
  },
  {
   "cell_type": "code",
   "execution_count": 33,
   "id": "4aed54b1",
   "metadata": {},
   "outputs": [],
   "source": [
    "rhs_ineq = [0,0,0,0,0,0]"
   ]
  },
  {
   "cell_type": "code",
   "execution_count": 34,
   "id": "a1c3e1de",
   "metadata": {},
   "outputs": [],
   "source": [
    "lhs_eq = [[ 0,  6, 100]] \n",
    "rhs_eq = [1]"
   ]
  },
  {
   "cell_type": "code",
   "execution_count": 35,
   "id": "eb7bb627",
   "metadata": {},
   "outputs": [],
   "source": [
    "bnd = [(0, float(\"inf\")),  # Bounds of u1\n",
    "       (0, float(\"inf\")),  # Bounds of v1\n",
    "       (0, float(\"inf\"))]  # Bounds of v2"
   ]
  },
  {
   "cell_type": "code",
   "execution_count": 36,
   "id": "6386b81e",
   "metadata": {},
   "outputs": [],
   "source": [
    "opt = linprog(c=obj, A_ub=lhs_ineq, b_ub=rhs_ineq,\n",
    "              A_eq=lhs_eq, b_eq=rhs_eq, bounds=bnd,\n",
    "              method=\"revised simplex\")"
   ]
  },
  {
   "cell_type": "code",
   "execution_count": 37,
   "id": "0d3f8c1c",
   "metadata": {},
   "outputs": [
    {
     "data": {
      "text/plain": [
       "     con: array([0.])\n",
       "     fun: -0.8888888888888888\n",
       " message: 'Optimization terminated successfully.'\n",
       "     nit: 3\n",
       "   slack: array([5.55555556e-01, 3.33333333e-01, 8.32667268e-17, 1.11111111e-01,\n",
       "       8.88888889e-02, 1.11022302e-16])\n",
       "  status: 0\n",
       " success: True\n",
       "       x: array([0.00888889, 0.05555556, 0.00666667])"
      ]
     },
     "execution_count": 37,
     "metadata": {},
     "output_type": "execute_result"
    }
   ],
   "source": [
    "opt"
   ]
  },
  {
   "cell_type": "code",
   "execution_count": 38,
   "id": "e474e864",
   "metadata": {},
   "outputs": [
    {
     "name": "stdout",
     "output_type": "stream",
     "text": [
      "Effizienz Serviceeinheit 4: 0.8888888888888888\n",
      "Nutzengewichte Arbeitsstunde und Materialeinsatz: [0.05555556 0.00666667]\n"
     ]
    }
   ],
   "source": [
    "print(\"Effizienz Serviceeinheit 4: {}\".format(-1*opt.fun))\n",
    "print(\"Nutzengewichte Arbeitsstunde und Materialeinsatz: {}\".format(opt.x[1:]))"
   ]
  },
  {
   "cell_type": "code",
   "execution_count": 39,
   "id": "5455ff51",
   "metadata": {},
   "outputs": [],
   "source": [
    "# Serviceeinheit 5"
   ]
  },
  {
   "cell_type": "code",
   "execution_count": 40,
   "id": "0b322fb0",
   "metadata": {},
   "outputs": [],
   "source": [
    "obj = [-100, 0, 0]"
   ]
  },
  {
   "cell_type": "code",
   "execution_count": 41,
   "id": "875d11d2",
   "metadata": {},
   "outputs": [],
   "source": [
    "lhs_ineq = [[ 100,  -2, -200],  # 1\n",
    "            [ 100,  -4, -150],  # 2\n",
    "            [ 100,  -4, -100],  # 3\n",
    "            [ 100,  -6, -100],  # 4\n",
    "            [ 100,  -8, -80],  # 5\n",
    "            [ 100,  -10, -50]]  # 6"
   ]
  },
  {
   "cell_type": "code",
   "execution_count": 42,
   "id": "68bdb07a",
   "metadata": {},
   "outputs": [],
   "source": [
    "rhs_ineq = [0,0,0,0,0,0]"
   ]
  },
  {
   "cell_type": "code",
   "execution_count": 43,
   "id": "a8e94bbc",
   "metadata": {},
   "outputs": [],
   "source": [
    "lhs_eq = [[ 0,  8, 80]] \n",
    "rhs_eq = [1]"
   ]
  },
  {
   "cell_type": "code",
   "execution_count": 44,
   "id": "432e9605",
   "metadata": {},
   "outputs": [],
   "source": [
    "bnd = [(0, float(\"inf\")),  # Bounds of u1\n",
    "       (0, float(\"inf\")),  # Bounds of v1\n",
    "       (0, float(\"inf\"))]  # Bounds of v2"
   ]
  },
  {
   "cell_type": "code",
   "execution_count": 45,
   "id": "9ef44653",
   "metadata": {},
   "outputs": [],
   "source": [
    "opt = linprog(c=obj, A_ub=lhs_ineq, b_ub=rhs_ineq,\n",
    "              A_eq=lhs_eq, b_eq=rhs_eq, bounds=bnd,\n",
    "              method=\"revised simplex\")"
   ]
  },
  {
   "cell_type": "code",
   "execution_count": 46,
   "id": "94d49888",
   "metadata": {},
   "outputs": [
    {
     "data": {
      "text/plain": [
       "     con: array([0.])\n",
       "     fun: -0.9090909090909091\n",
       " message: 'Optimization terminated successfully.'\n",
       "     nit: 3\n",
       "   slack: array([5.68181818e-01, 3.40909091e-01, 8.32667268e-17, 1.13636364e-01,\n",
       "       9.09090909e-02, 0.00000000e+00])\n",
       "  status: 0\n",
       " success: True\n",
       "       x: array([0.00909091, 0.05681818, 0.00681818])"
      ]
     },
     "execution_count": 46,
     "metadata": {},
     "output_type": "execute_result"
    }
   ],
   "source": [
    "opt"
   ]
  },
  {
   "cell_type": "code",
   "execution_count": 47,
   "id": "556d9f1d",
   "metadata": {},
   "outputs": [
    {
     "name": "stdout",
     "output_type": "stream",
     "text": [
      "Effizienz Serviceeinheit 5: 0.9090909090909091\n",
      "Nutzengewichte Arbeitsstunde und Materialeinsatz: [0.05681818 0.00681818]\n"
     ]
    }
   ],
   "source": [
    "print(\"Effizienz Serviceeinheit 5: {}\".format(-1*opt.fun))\n",
    "print(\"Nutzengewichte Arbeitsstunde und Materialeinsatz: {}\".format(opt.x[1:]))"
   ]
  },
  {
   "cell_type": "code",
   "execution_count": 48,
   "id": "368cf74a",
   "metadata": {},
   "outputs": [],
   "source": [
    "# Serviceeinheit 6"
   ]
  },
  {
   "cell_type": "code",
   "execution_count": 49,
   "id": "bf27b987",
   "metadata": {},
   "outputs": [],
   "source": [
    "obj = [-100, 0, 0]"
   ]
  },
  {
   "cell_type": "code",
   "execution_count": 50,
   "id": "6006628c",
   "metadata": {},
   "outputs": [],
   "source": [
    "lhs_ineq = [[ 100,  -2, -200],  # 1\n",
    "            [ 100,  -4, -150],  # 2\n",
    "            [ 100,  -4, -100],  # 3\n",
    "            [ 100,  -6, -100],  # 4\n",
    "            [ 100,  -8, -80],  # 5\n",
    "            [ 100,  -10, -50]]  # 6"
   ]
  },
  {
   "cell_type": "code",
   "execution_count": 51,
   "id": "cae876d3",
   "metadata": {},
   "outputs": [],
   "source": [
    "rhs_ineq = [0,0,0,0,0,0]"
   ]
  },
  {
   "cell_type": "code",
   "execution_count": 52,
   "id": "fd1df084",
   "metadata": {},
   "outputs": [],
   "source": [
    "lhs_eq = [[ 0,  10, 50]] \n",
    "rhs_eq = [1]"
   ]
  },
  {
   "cell_type": "code",
   "execution_count": 53,
   "id": "8fb87e1a",
   "metadata": {},
   "outputs": [],
   "source": [
    "bnd = [(0, float(\"inf\")),  # Bounds of u1\n",
    "       (0, float(\"inf\")),  # Bounds of v1\n",
    "       (0, float(\"inf\"))]  # Bounds of v2"
   ]
  },
  {
   "cell_type": "code",
   "execution_count": 54,
   "id": "b7d78d9a",
   "metadata": {},
   "outputs": [],
   "source": [
    "opt = linprog(c=obj, A_ub=lhs_ineq, b_ub=rhs_ineq,\n",
    "              A_eq=lhs_eq, b_eq=rhs_eq, bounds=bnd,\n",
    "              method=\"revised simplex\")"
   ]
  },
  {
   "cell_type": "code",
   "execution_count": 55,
   "id": "d120a071",
   "metadata": {},
   "outputs": [
    {
     "data": {
      "text/plain": [
       "     con: array([0.])\n",
       "     fun: -1.0\n",
       " message: 'Optimization terminated successfully.'\n",
       "     nit: 2\n",
       "   slack: array([3.00000000e+00, 2.00000000e+00, 1.00000000e+00, 1.00000000e+00,\n",
       "       6.00000000e-01, 2.08166817e-17])\n",
       "  status: 0\n",
       " success: True\n",
       "       x: array([0.01, 0.  , 0.02])"
      ]
     },
     "execution_count": 55,
     "metadata": {},
     "output_type": "execute_result"
    }
   ],
   "source": [
    "opt"
   ]
  },
  {
   "cell_type": "code",
   "execution_count": 56,
   "id": "7bdfeb4a",
   "metadata": {},
   "outputs": [
    {
     "name": "stdout",
     "output_type": "stream",
     "text": [
      "Effizienz Serviceeinheit 6: 1.0\n",
      "Nutzengewichte Arbeitsstunde und Materialeinsatz: [0.   0.02]\n"
     ]
    }
   ],
   "source": [
    "print(\"Effizienz Serviceeinheit 6: {}\".format(-1*opt.fun))\n",
    "print(\"Nutzengewichte Arbeitsstunde und Materialeinsatz: {}\".format(opt.x[1:]))"
   ]
  }
 ],
 "metadata": {
  "kernelspec": {
   "display_name": "Python 3 (ipykernel)",
   "language": "python",
   "name": "python3"
  },
  "language_info": {
   "codemirror_mode": {
    "name": "ipython",
    "version": 3
   },
   "file_extension": ".py",
   "mimetype": "text/x-python",
   "name": "python",
   "nbconvert_exporter": "python",
   "pygments_lexer": "ipython3",
   "version": "3.7.3"
  }
 },
 "nbformat": 4,
 "nbformat_minor": 5
}
