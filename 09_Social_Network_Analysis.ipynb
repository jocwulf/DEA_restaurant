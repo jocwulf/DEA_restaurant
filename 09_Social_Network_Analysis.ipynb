{
 "cells": [
  {
   "attachments": {},
   "cell_type": "markdown",
   "metadata": {},
   "source": [
    "# Social Network Analysis"
   ]
  },
  {
   "cell_type": "code",
   "execution_count": 1,
   "metadata": {},
   "outputs": [],
   "source": [
    "import pandas as pd\n",
    "import numpy as np\n",
    "from datetime import date\n",
    "from IPython.display import Markdown, display\n",
    "import matplotlib.pyplot as plt\n",
    "import seaborn as sns"
   ]
  },
  {
   "cell_type": "code",
   "execution_count": 2,
   "metadata": {},
   "outputs": [],
   "source": [
    "#!pip install pm4py --user\n",
    "from pm4py.objects.conversion.log import converter as log_converter\n",
    "from pm4py.objects.log.importer.xes import importer as xes_importer\n",
    "\n",
    "# process mining \n",
    "from pm4py.algo.discovery.alpha import algorithm as alpha_miner\n",
    "from pm4py.algo.discovery.inductive import algorithm as inductive_miner\n",
    "from pm4py.algo.discovery.heuristics import algorithm as heuristics_miner\n",
    "from pm4py.algo.discovery.dfg import algorithm as dfg_discovery\n",
    "from pm4py.algo.discovery.footprints import algorithm as footprints_discovery\n",
    "\n",
    "\n",
    "# viz\n",
    "from pm4py.visualization.petri_net import visualizer as pn_visualizer\n",
    "from pm4py.visualization.footprints import visualizer as fp_visualizer\n",
    "from pm4py.visualization.transition_system import visualizer as ts_visualizer\n",
    "from pm4py.visualization.process_tree import visualizer as pt_visualizer\n",
    "from pm4py.visualization.heuristics_net import visualizer as hn_visualizer\n",
    "from pm4py.visualization.dfg import visualizer as dfg_visualization\n",
    "\n",
    "# conformance\n",
    "from pm4py.algo.conformance.footprints import algorithm as fp_conformance\n",
    "from pm4py import conformance_diagnostics_token_based_replay\n",
    "from pm4py.algo.conformance.alignments.edit_distance import algorithm as logs_alignments\n",
    "\n",
    "# misc \n",
    "from pm4py.objects.petri_net.utils import reachability_graph\n",
    "from pm4py.objects.conversion.process_tree import converter as pt_converter\n",
    "from pm4py.objects.petri_net.obj import PetriNet, Marking\n",
    "\n",
    "import pm4py"
   ]
  },
  {
   "attachments": {},
   "cell_type": "markdown",
   "metadata": {},
   "source": [
    "### Read event log"
   ]
  },
  {
   "cell_type": "code",
   "execution_count": 3,
   "metadata": {},
   "outputs": [],
   "source": [
    "fn = 'request_data.csv'\n",
    "events = pd.read_csv(fn,sep=';')\n",
    "events['Timestamp'] = pd.to_datetime(events['Timestamp'],format='%d-%m-%Y:%H.%M')"
   ]
  },
  {
   "cell_type": "code",
   "execution_count": 4,
   "metadata": {},
   "outputs": [],
   "source": [
    "activitynames = {'register_request': 'a_register_request',\n",
    "                 'examine_thoroughly': 'b_examine_thoroughly',\n",
    "                    'examine_casually': 'c_examine_casually',\n",
    "                    'check_ticket': 'd_check_ticket',\n",
    "                    'decide': 'e_decide',\n",
    "                    'reinitiate_request': 'f_reinitiate_request',\n",
    "                    'pay_compensation': 'g_pay_compensation',\n",
    "                    'reject_request': 'h_reject_request'\n",
    "                 }"
   ]
  },
  {
   "cell_type": "code",
   "execution_count": 5,
   "metadata": {},
   "outputs": [],
   "source": [
    "# rename values in row 'Activity' to the values in activitynames\n",
    "events['Activity'] = events['Activity'].map(activitynames)"
   ]
  },
  {
   "attachments": {},
   "cell_type": "markdown",
   "metadata": {},
   "source": [
    "### Resource Activity Matrix"
   ]
  },
  {
   "cell_type": "code",
   "execution_count": 6,
   "metadata": {},
   "outputs": [
    {
     "name": "stdout",
     "output_type": "stream",
     "text": [
      "Activity  a_register_request  b_examine_thoroughly  c_examine_casually  \\\n",
      "Resource                                                                 \n",
      "Ellen                    1.0                   0.0                 1.0   \n",
      "Mike                     2.0                   0.0                 3.0   \n",
      "Pete                     3.0                   0.0                 1.0   \n",
      "Sara                     0.0                   0.0                 0.0   \n",
      "Sean                     0.0                   2.0                 0.0   \n",
      "Sue                      0.0                   2.0                 0.0   \n",
      "\n",
      "Activity  d_check_ticket  e_decide  f_reinitiate_request  g_pay_compensation  \\\n",
      "Resource                                                                       \n",
      "Ellen                2.0       0.0                   0.0                 2.0   \n",
      "Mike                 4.0       0.0                   0.0                 1.0   \n",
      "Pete                 3.0       0.0                   0.0                 0.0   \n",
      "Sara                 0.0       9.0                   3.0                 0.0   \n",
      "Sean                 0.0       0.0                   0.0                 0.0   \n",
      "Sue                  0.0       0.0                   0.0                 0.0   \n",
      "\n",
      "Activity  h_reject_request  \n",
      "Resource                    \n",
      "Ellen                  1.0  \n",
      "Mike                   1.0  \n",
      "Pete                   1.0  \n",
      "Sara                   0.0  \n",
      "Sean                   0.0  \n",
      "Sue                    0.0  \n"
     ]
    }
   ],
   "source": [
    "# Resource Activity Matrix\n",
    "resource_activity_matrix = events.groupby(\"Activity\")[\"Resource\"].value_counts().unstack().fillna(0).transpose()\n",
    "print(resource_activity_matrix)"
   ]
  },
  {
   "cell_type": "code",
   "execution_count": 7,
   "metadata": {},
   "outputs": [
    {
     "data": {
      "text/html": [
       "<div>\n",
       "<style scoped>\n",
       "    .dataframe tbody tr th:only-of-type {\n",
       "        vertical-align: middle;\n",
       "    }\n",
       "\n",
       "    .dataframe tbody tr th {\n",
       "        vertical-align: top;\n",
       "    }\n",
       "\n",
       "    .dataframe thead th {\n",
       "        text-align: right;\n",
       "    }\n",
       "</style>\n",
       "<table border=\"1\" class=\"dataframe\">\n",
       "  <thead>\n",
       "    <tr style=\"text-align: right;\">\n",
       "      <th>Activity</th>\n",
       "      <th>a_register_request</th>\n",
       "      <th>b_examine_thoroughly</th>\n",
       "      <th>c_examine_casually</th>\n",
       "      <th>d_check_ticket</th>\n",
       "      <th>e_decide</th>\n",
       "      <th>f_reinitiate_request</th>\n",
       "      <th>g_pay_compensation</th>\n",
       "      <th>h_reject_request</th>\n",
       "    </tr>\n",
       "    <tr>\n",
       "      <th>Resource</th>\n",
       "      <th></th>\n",
       "      <th></th>\n",
       "      <th></th>\n",
       "      <th></th>\n",
       "      <th></th>\n",
       "      <th></th>\n",
       "      <th></th>\n",
       "      <th></th>\n",
       "    </tr>\n",
       "  </thead>\n",
       "  <tbody>\n",
       "    <tr>\n",
       "      <th>Ellen</th>\n",
       "      <td>0.166667</td>\n",
       "      <td>0.000000</td>\n",
       "      <td>0.166667</td>\n",
       "      <td>0.333333</td>\n",
       "      <td>0.0</td>\n",
       "      <td>0.0</td>\n",
       "      <td>0.333333</td>\n",
       "      <td>0.166667</td>\n",
       "    </tr>\n",
       "    <tr>\n",
       "      <th>Mike</th>\n",
       "      <td>0.333333</td>\n",
       "      <td>0.000000</td>\n",
       "      <td>0.500000</td>\n",
       "      <td>0.666667</td>\n",
       "      <td>0.0</td>\n",
       "      <td>0.0</td>\n",
       "      <td>0.166667</td>\n",
       "      <td>0.166667</td>\n",
       "    </tr>\n",
       "    <tr>\n",
       "      <th>Pete</th>\n",
       "      <td>0.500000</td>\n",
       "      <td>0.000000</td>\n",
       "      <td>0.166667</td>\n",
       "      <td>0.500000</td>\n",
       "      <td>0.0</td>\n",
       "      <td>0.0</td>\n",
       "      <td>0.000000</td>\n",
       "      <td>0.166667</td>\n",
       "    </tr>\n",
       "    <tr>\n",
       "      <th>Sara</th>\n",
       "      <td>0.000000</td>\n",
       "      <td>0.000000</td>\n",
       "      <td>0.000000</td>\n",
       "      <td>0.000000</td>\n",
       "      <td>1.5</td>\n",
       "      <td>0.5</td>\n",
       "      <td>0.000000</td>\n",
       "      <td>0.000000</td>\n",
       "    </tr>\n",
       "    <tr>\n",
       "      <th>Sean</th>\n",
       "      <td>0.000000</td>\n",
       "      <td>0.333333</td>\n",
       "      <td>0.000000</td>\n",
       "      <td>0.000000</td>\n",
       "      <td>0.0</td>\n",
       "      <td>0.0</td>\n",
       "      <td>0.000000</td>\n",
       "      <td>0.000000</td>\n",
       "    </tr>\n",
       "    <tr>\n",
       "      <th>Sue</th>\n",
       "      <td>0.000000</td>\n",
       "      <td>0.333333</td>\n",
       "      <td>0.000000</td>\n",
       "      <td>0.000000</td>\n",
       "      <td>0.0</td>\n",
       "      <td>0.0</td>\n",
       "      <td>0.000000</td>\n",
       "      <td>0.000000</td>\n",
       "    </tr>\n",
       "  </tbody>\n",
       "</table>\n",
       "</div>"
      ],
      "text/plain": [
       "Activity  a_register_request  b_examine_thoroughly  c_examine_casually  \\\n",
       "Resource                                                                 \n",
       "Ellen               0.166667              0.000000            0.166667   \n",
       "Mike                0.333333              0.000000            0.500000   \n",
       "Pete                0.500000              0.000000            0.166667   \n",
       "Sara                0.000000              0.000000            0.000000   \n",
       "Sean                0.000000              0.333333            0.000000   \n",
       "Sue                 0.000000              0.333333            0.000000   \n",
       "\n",
       "Activity  d_check_ticket  e_decide  f_reinitiate_request  g_pay_compensation  \\\n",
       "Resource                                                                       \n",
       "Ellen           0.333333       0.0                   0.0            0.333333   \n",
       "Mike            0.666667       0.0                   0.0            0.166667   \n",
       "Pete            0.500000       0.0                   0.0            0.000000   \n",
       "Sara            0.000000       1.5                   0.5            0.000000   \n",
       "Sean            0.000000       0.0                   0.0            0.000000   \n",
       "Sue             0.000000       0.0                   0.0            0.000000   \n",
       "\n",
       "Activity  h_reject_request  \n",
       "Resource                    \n",
       "Ellen             0.166667  \n",
       "Mike              0.166667  \n",
       "Pete              0.166667  \n",
       "Sara              0.000000  \n",
       "Sean              0.000000  \n",
       "Sue               0.000000  "
      ]
     },
     "execution_count": 7,
     "metadata": {},
     "output_type": "execute_result"
    }
   ],
   "source": [
    "# normalize resource activity matrix by the number of cases\n",
    "num_cases = len(events['Case_ID'].unique())\n",
    "resource_activity_matrix_norm = resource_activity_matrix.div(num_cases)\n",
    "resource_activity_matrix_norm"
   ]
  },
  {
   "attachments": {},
   "cell_type": "markdown",
   "metadata": {},
   "source": [
    "### Clustering of resource-activity profiles based on Manhattan distances"
   ]
  },
  {
   "cell_type": "code",
   "execution_count": 23,
   "metadata": {},
   "outputs": [
    {
     "data": {
      "text/html": [
       "<div>\n",
       "<style scoped>\n",
       "    .dataframe tbody tr th:only-of-type {\n",
       "        vertical-align: middle;\n",
       "    }\n",
       "\n",
       "    .dataframe tbody tr th {\n",
       "        vertical-align: top;\n",
       "    }\n",
       "\n",
       "    .dataframe thead th {\n",
       "        text-align: right;\n",
       "    }\n",
       "</style>\n",
       "<table border=\"1\" class=\"dataframe\">\n",
       "  <thead>\n",
       "    <tr style=\"text-align: right;\">\n",
       "      <th>Resource</th>\n",
       "      <th>Ellen</th>\n",
       "      <th>Mike</th>\n",
       "      <th>Pete</th>\n",
       "      <th>Sara</th>\n",
       "      <th>Sean</th>\n",
       "      <th>Sue</th>\n",
       "    </tr>\n",
       "    <tr>\n",
       "      <th>Resource</th>\n",
       "      <th></th>\n",
       "      <th></th>\n",
       "      <th></th>\n",
       "      <th></th>\n",
       "      <th></th>\n",
       "      <th></th>\n",
       "    </tr>\n",
       "  </thead>\n",
       "  <tbody>\n",
       "    <tr>\n",
       "      <th>Ellen</th>\n",
       "      <td>0.000000</td>\n",
       "      <td>1.000000</td>\n",
       "      <td>0.833333</td>\n",
       "      <td>3.166667</td>\n",
       "      <td>1.500000</td>\n",
       "      <td>1.500000</td>\n",
       "    </tr>\n",
       "    <tr>\n",
       "      <th>Mike</th>\n",
       "      <td>1.000000</td>\n",
       "      <td>0.000000</td>\n",
       "      <td>0.833333</td>\n",
       "      <td>3.833333</td>\n",
       "      <td>2.166667</td>\n",
       "      <td>2.166667</td>\n",
       "    </tr>\n",
       "    <tr>\n",
       "      <th>Pete</th>\n",
       "      <td>0.833333</td>\n",
       "      <td>0.833333</td>\n",
       "      <td>0.000000</td>\n",
       "      <td>3.333333</td>\n",
       "      <td>1.666667</td>\n",
       "      <td>1.666667</td>\n",
       "    </tr>\n",
       "    <tr>\n",
       "      <th>Sara</th>\n",
       "      <td>3.166667</td>\n",
       "      <td>3.833333</td>\n",
       "      <td>3.333333</td>\n",
       "      <td>0.000000</td>\n",
       "      <td>2.333333</td>\n",
       "      <td>2.333333</td>\n",
       "    </tr>\n",
       "    <tr>\n",
       "      <th>Sean</th>\n",
       "      <td>1.500000</td>\n",
       "      <td>2.166667</td>\n",
       "      <td>1.666667</td>\n",
       "      <td>2.333333</td>\n",
       "      <td>0.000000</td>\n",
       "      <td>0.000000</td>\n",
       "    </tr>\n",
       "    <tr>\n",
       "      <th>Sue</th>\n",
       "      <td>1.500000</td>\n",
       "      <td>2.166667</td>\n",
       "      <td>1.666667</td>\n",
       "      <td>2.333333</td>\n",
       "      <td>0.000000</td>\n",
       "      <td>0.000000</td>\n",
       "    </tr>\n",
       "  </tbody>\n",
       "</table>\n",
       "</div>"
      ],
      "text/plain": [
       "Resource     Ellen      Mike      Pete      Sara      Sean       Sue\n",
       "Resource                                                            \n",
       "Ellen     0.000000  1.000000  0.833333  3.166667  1.500000  1.500000\n",
       "Mike      1.000000  0.000000  0.833333  3.833333  2.166667  2.166667\n",
       "Pete      0.833333  0.833333  0.000000  3.333333  1.666667  1.666667\n",
       "Sara      3.166667  3.833333  3.333333  0.000000  2.333333  2.333333\n",
       "Sean      1.500000  2.166667  1.666667  2.333333  0.000000  0.000000\n",
       "Sue       1.500000  2.166667  1.666667  2.333333  0.000000  0.000000"
      ]
     },
     "execution_count": 23,
     "metadata": {},
     "output_type": "execute_result"
    }
   ],
   "source": [
    "# calculate manhattan distances between resources\n",
    "from scipy.spatial.distance import pdist, squareform\n",
    "distances = pdist(resource_activity_matrix_norm, metric='cityblock')\n",
    "distances = squareform(distances)\n",
    "distances = pd.DataFrame(distances, index=resource_activity_matrix_norm.index, columns=resource_activity_matrix_norm.index)\n",
    "distances"
   ]
  },
  {
   "cell_type": "code",
   "execution_count": 33,
   "metadata": {},
   "outputs": [
    {
     "data": {
      "text/html": [
       "<div>\n",
       "<style scoped>\n",
       "    .dataframe tbody tr th:only-of-type {\n",
       "        vertical-align: middle;\n",
       "    }\n",
       "\n",
       "    .dataframe tbody tr th {\n",
       "        vertical-align: top;\n",
       "    }\n",
       "\n",
       "    .dataframe thead th {\n",
       "        text-align: right;\n",
       "    }\n",
       "</style>\n",
       "<table border=\"1\" class=\"dataframe\">\n",
       "  <thead>\n",
       "    <tr style=\"text-align: right;\">\n",
       "      <th>Resource</th>\n",
       "      <th>Ellen</th>\n",
       "      <th>Mike</th>\n",
       "      <th>Pete</th>\n",
       "      <th>Sara</th>\n",
       "      <th>Sean</th>\n",
       "      <th>Sue</th>\n",
       "    </tr>\n",
       "    <tr>\n",
       "      <th>Resource</th>\n",
       "      <th></th>\n",
       "      <th></th>\n",
       "      <th></th>\n",
       "      <th></th>\n",
       "      <th></th>\n",
       "      <th></th>\n",
       "    </tr>\n",
       "  </thead>\n",
       "  <tbody>\n",
       "    <tr>\n",
       "      <th>Ellen</th>\n",
       "      <td>NaN</td>\n",
       "      <td>1.000000</td>\n",
       "      <td>1.2</td>\n",
       "      <td>0.315789</td>\n",
       "      <td>0.666667</td>\n",
       "      <td>0.666667</td>\n",
       "    </tr>\n",
       "    <tr>\n",
       "      <th>Mike</th>\n",
       "      <td>1.000000</td>\n",
       "      <td>NaN</td>\n",
       "      <td>1.2</td>\n",
       "      <td>0.260870</td>\n",
       "      <td>0.461538</td>\n",
       "      <td>0.461538</td>\n",
       "    </tr>\n",
       "    <tr>\n",
       "      <th>Pete</th>\n",
       "      <td>1.200000</td>\n",
       "      <td>1.200000</td>\n",
       "      <td>NaN</td>\n",
       "      <td>0.300000</td>\n",
       "      <td>0.600000</td>\n",
       "      <td>0.600000</td>\n",
       "    </tr>\n",
       "    <tr>\n",
       "      <th>Sara</th>\n",
       "      <td>0.315789</td>\n",
       "      <td>0.260870</td>\n",
       "      <td>0.3</td>\n",
       "      <td>NaN</td>\n",
       "      <td>0.428571</td>\n",
       "      <td>0.428571</td>\n",
       "    </tr>\n",
       "    <tr>\n",
       "      <th>Sean</th>\n",
       "      <td>0.666667</td>\n",
       "      <td>0.461538</td>\n",
       "      <td>0.6</td>\n",
       "      <td>0.428571</td>\n",
       "      <td>NaN</td>\n",
       "      <td>inf</td>\n",
       "    </tr>\n",
       "    <tr>\n",
       "      <th>Sue</th>\n",
       "      <td>0.666667</td>\n",
       "      <td>0.461538</td>\n",
       "      <td>0.6</td>\n",
       "      <td>0.428571</td>\n",
       "      <td>inf</td>\n",
       "      <td>NaN</td>\n",
       "    </tr>\n",
       "  </tbody>\n",
       "</table>\n",
       "</div>"
      ],
      "text/plain": [
       "Resource     Ellen      Mike  Pete      Sara      Sean       Sue\n",
       "Resource                                                        \n",
       "Ellen          NaN  1.000000   1.2  0.315789  0.666667  0.666667\n",
       "Mike      1.000000       NaN   1.2  0.260870  0.461538  0.461538\n",
       "Pete      1.200000  1.200000   NaN  0.300000  0.600000  0.600000\n",
       "Sara      0.315789  0.260870   0.3       NaN  0.428571  0.428571\n",
       "Sean      0.666667  0.461538   0.6  0.428571       NaN       inf\n",
       "Sue       0.666667  0.461538   0.6  0.428571       inf       NaN"
      ]
     },
     "execution_count": 33,
     "metadata": {},
     "output_type": "execute_result"
    }
   ],
   "source": [
    "# invert distances to get similarity ignoring diagonal\n",
    "similarity_manhattan = 1/distances\n",
    "similarity_manhattan = similarity_manhattan - np.diag(np.diag(similarity_manhattan))\n",
    "similarity_manhattan\n",
    "\n"
   ]
  },
  {
   "cell_type": "code",
   "execution_count": 36,
   "metadata": {},
   "outputs": [],
   "source": [
    "# replace inf with 2 (arbitrary strongest similarity)\n",
    "similarity_manhattan.replace(np.inf, 2, inplace=True)\n",
    "\n",
    "\n"
   ]
  },
  {
   "cell_type": "code",
   "execution_count": 38,
   "metadata": {},
   "outputs": [],
   "source": [
    "# replace nan with 0\n",
    "similarity_manhattan.fillna(0, inplace=True)"
   ]
  },
  {
   "cell_type": "code",
   "execution_count": 40,
   "metadata": {},
   "outputs": [],
   "source": [
    "# replace all values > 1 with 0\n",
    "similarity_manhattan[similarity_manhattan < 1] = 0\n"
   ]
  },
  {
   "cell_type": "code",
   "execution_count": 45,
   "metadata": {},
   "outputs": [
    {
     "data": {
      "image/png": "[encoded data removed]",
      "text/plain": [
       "<Figure size 640x480 with 1 Axes>"
      ]
     },
     "metadata": {},
     "output_type": "display_data"
    }
   ],
   "source": [
    "# depict distances as network with networkx\n",
    "#!pip install --upgrade networkx # this needs to be run only once if error \"module 'matplotlib.cbook' has no attribute 'iterable'\" appears\n",
    "import networkx as nx\n",
    "G = nx.from_numpy_matrix(similarity_manhattan.values)    \n",
    "G = nx.relabel_nodes(G, dict(zip(range(len(similarity_manhattan.index)), similarity_manhattan.index)))\n",
    "#nx.draw(G, with_labels=True, node_size=1000, node_color='lightblue', font_size=8, width=list(nx.get_edge_attributes(G,'weight').values()))\n",
    "nx.draw(G, with_labels=True, node_size=500, font_size=8)\n",
    "\n"
   ]
  },
  {
   "cell_type": "code",
   "execution_count": 51,
   "metadata": {},
   "outputs": [
    {
     "name": "stdout",
     "output_type": "stream",
     "text": [
      "[('Ellen', 0), ('Mike', 0), ('Pete', 0), ('Sara', 1), ('Sean', 2), ('Sue', 2)]\n"
     ]
    }
   ],
   "source": [
    "# cluster analysis on resource_activity_matrix_norm\n",
    "from sklearn.cluster import AgglomerativeClustering\n",
    "clustering = AgglomerativeClustering(n_clusters=3, affinity='euclidean', linkage='average').fit(resource_activity_matrix_norm)\n",
    "print(list(zip(list(resource_activity_matrix_norm.index), clustering.labels_)))"
   ]
  },
  {
   "attachments": {},
   "cell_type": "markdown",
   "metadata": {},
   "source": [
    "### Other distance measures"
   ]
  },
  {
   "cell_type": "code",
   "execution_count": null,
   "metadata": {},
   "outputs": [],
   "source": [
    "# calculate euclidean distances between resources\n",
    "from scipy.spatial.distance import pdist, squareform\n",
    "distances_eucl = pdist(resource_activity_matrix_norm, metric='euclidean')\n",
    "distances_eucl = squareform(distances_eucl)\n",
    "distances_eucl = pd.DataFrame(distances_eucl, index=resource_activity_matrix_norm.index, columns=resource_activity_matrix_norm.index)\n",
    "distances_eucl"
   ]
  },
  {
   "cell_type": "code",
   "execution_count": null,
   "metadata": {},
   "outputs": [],
   "source": [
    "# calculate correlation distance between resources\n",
    "from scipy.spatial.distance import pdist, squareform\n",
    "distances_corr = pdist(resource_activity_matrix_norm, metric='correlation')\n",
    "distances_corr = squareform(distances_corr)\n",
    "distances_corr = pd.DataFrame(distances_corr, index=resource_activity_matrix_norm.index, columns=resource_activity_matrix_norm.index)\n",
    "distances_corr"
   ]
  },
  {
   "attachments": {},
   "cell_type": "markdown",
   "metadata": {},
   "source": [
    "### resource case matrix"
   ]
  },
  {
   "cell_type": "code",
   "execution_count": 66,
   "metadata": {},
   "outputs": [
    {
     "data": {
      "text/html": [
       "<div>\n",
       "<style scoped>\n",
       "    .dataframe tbody tr th:only-of-type {\n",
       "        vertical-align: middle;\n",
       "    }\n",
       "\n",
       "    .dataframe tbody tr th {\n",
       "        vertical-align: top;\n",
       "    }\n",
       "\n",
       "    .dataframe thead th {\n",
       "        text-align: right;\n",
       "    }\n",
       "</style>\n",
       "<table border=\"1\" class=\"dataframe\">\n",
       "  <thead>\n",
       "    <tr style=\"text-align: right;\">\n",
       "      <th>Case_ID</th>\n",
       "      <th>1</th>\n",
       "      <th>2</th>\n",
       "      <th>3</th>\n",
       "      <th>4</th>\n",
       "      <th>5</th>\n",
       "      <th>6</th>\n",
       "    </tr>\n",
       "    <tr>\n",
       "      <th>Resource</th>\n",
       "      <th></th>\n",
       "      <th></th>\n",
       "      <th></th>\n",
       "      <th></th>\n",
       "      <th></th>\n",
       "      <th></th>\n",
       "    </tr>\n",
       "  </thead>\n",
       "  <tbody>\n",
       "    <tr>\n",
       "      <th>Ellen</th>\n",
       "      <td>0.0</td>\n",
       "      <td>1.0</td>\n",
       "      <td>2.0</td>\n",
       "      <td>1.0</td>\n",
       "      <td>2.0</td>\n",
       "      <td>1.0</td>\n",
       "    </tr>\n",
       "    <tr>\n",
       "      <th>Mike</th>\n",
       "      <td>1.0</td>\n",
       "      <td>2.0</td>\n",
       "      <td>1.0</td>\n",
       "      <td>1.0</td>\n",
       "      <td>3.0</td>\n",
       "      <td>3.0</td>\n",
       "    </tr>\n",
       "    <tr>\n",
       "      <th>Pete</th>\n",
       "      <td>2.0</td>\n",
       "      <td>1.0</td>\n",
       "      <td>2.0</td>\n",
       "      <td>1.0</td>\n",
       "      <td>2.0</td>\n",
       "      <td>0.0</td>\n",
       "    </tr>\n",
       "    <tr>\n",
       "      <th>Sara</th>\n",
       "      <td>1.0</td>\n",
       "      <td>1.0</td>\n",
       "      <td>3.0</td>\n",
       "      <td>1.0</td>\n",
       "      <td>5.0</td>\n",
       "      <td>1.0</td>\n",
       "    </tr>\n",
       "    <tr>\n",
       "      <th>Sean</th>\n",
       "      <td>0.0</td>\n",
       "      <td>0.0</td>\n",
       "      <td>1.0</td>\n",
       "      <td>1.0</td>\n",
       "      <td>0.0</td>\n",
       "      <td>0.0</td>\n",
       "    </tr>\n",
       "    <tr>\n",
       "      <th>Sue</th>\n",
       "      <td>1.0</td>\n",
       "      <td>0.0</td>\n",
       "      <td>0.0</td>\n",
       "      <td>0.0</td>\n",
       "      <td>1.0</td>\n",
       "      <td>0.0</td>\n",
       "    </tr>\n",
       "  </tbody>\n",
       "</table>\n",
       "</div>"
      ],
      "text/plain": [
       "Case_ID     1    2    3    4    5    6\n",
       "Resource                              \n",
       "Ellen     0.0  1.0  2.0  1.0  2.0  1.0\n",
       "Mike      1.0  2.0  1.0  1.0  3.0  3.0\n",
       "Pete      2.0  1.0  2.0  1.0  2.0  0.0\n",
       "Sara      1.0  1.0  3.0  1.0  5.0  1.0\n",
       "Sean      0.0  0.0  1.0  1.0  0.0  0.0\n",
       "Sue       1.0  0.0  0.0  0.0  1.0  0.0"
      ]
     },
     "execution_count": 66,
     "metadata": {},
     "output_type": "execute_result"
    }
   ],
   "source": [
    "# Resource Case Matrix (we are only interested in whether or not a resource was involved in a case)\n",
    "resource_case_matrix = events.groupby(\"Case_ID\")[\"Resource\"].value_counts().unstack().fillna(0).transpose()\n",
    "resource_case_matrix"
   ]
  },
  {
   "cell_type": "code",
   "execution_count": 68,
   "metadata": {},
   "outputs": [
    {
     "data": {
      "text/html": [
       "<div>\n",
       "<style scoped>\n",
       "    .dataframe tbody tr th:only-of-type {\n",
       "        vertical-align: middle;\n",
       "    }\n",
       "\n",
       "    .dataframe tbody tr th {\n",
       "        vertical-align: top;\n",
       "    }\n",
       "\n",
       "    .dataframe thead th {\n",
       "        text-align: right;\n",
       "    }\n",
       "</style>\n",
       "<table border=\"1\" class=\"dataframe\">\n",
       "  <thead>\n",
       "    <tr style=\"text-align: right;\">\n",
       "      <th>Case_ID</th>\n",
       "      <th>1</th>\n",
       "      <th>2</th>\n",
       "      <th>3</th>\n",
       "      <th>4</th>\n",
       "      <th>5</th>\n",
       "      <th>6</th>\n",
       "    </tr>\n",
       "    <tr>\n",
       "      <th>Resource</th>\n",
       "      <th></th>\n",
       "      <th></th>\n",
       "      <th></th>\n",
       "      <th></th>\n",
       "      <th></th>\n",
       "      <th></th>\n",
       "    </tr>\n",
       "  </thead>\n",
       "  <tbody>\n",
       "    <tr>\n",
       "      <th>Ellen</th>\n",
       "      <td>0.0</td>\n",
       "      <td>1.0</td>\n",
       "      <td>1.0</td>\n",
       "      <td>1.0</td>\n",
       "      <td>1.0</td>\n",
       "      <td>1.0</td>\n",
       "    </tr>\n",
       "    <tr>\n",
       "      <th>Mike</th>\n",
       "      <td>1.0</td>\n",
       "      <td>1.0</td>\n",
       "      <td>1.0</td>\n",
       "      <td>1.0</td>\n",
       "      <td>1.0</td>\n",
       "      <td>1.0</td>\n",
       "    </tr>\n",
       "    <tr>\n",
       "      <th>Pete</th>\n",
       "      <td>1.0</td>\n",
       "      <td>1.0</td>\n",
       "      <td>1.0</td>\n",
       "      <td>1.0</td>\n",
       "      <td>1.0</td>\n",
       "      <td>0.0</td>\n",
       "    </tr>\n",
       "    <tr>\n",
       "      <th>Sara</th>\n",
       "      <td>1.0</td>\n",
       "      <td>1.0</td>\n",
       "      <td>1.0</td>\n",
       "      <td>1.0</td>\n",
       "      <td>1.0</td>\n",
       "      <td>1.0</td>\n",
       "    </tr>\n",
       "    <tr>\n",
       "      <th>Sean</th>\n",
       "      <td>0.0</td>\n",
       "      <td>0.0</td>\n",
       "      <td>1.0</td>\n",
       "      <td>1.0</td>\n",
       "      <td>0.0</td>\n",
       "      <td>0.0</td>\n",
       "    </tr>\n",
       "    <tr>\n",
       "      <th>Sue</th>\n",
       "      <td>1.0</td>\n",
       "      <td>0.0</td>\n",
       "      <td>0.0</td>\n",
       "      <td>0.0</td>\n",
       "      <td>1.0</td>\n",
       "      <td>0.0</td>\n",
       "    </tr>\n",
       "  </tbody>\n",
       "</table>\n",
       "</div>"
      ],
      "text/plain": [
       "Case_ID     1    2    3    4    5    6\n",
       "Resource                              \n",
       "Ellen     0.0  1.0  1.0  1.0  1.0  1.0\n",
       "Mike      1.0  1.0  1.0  1.0  1.0  1.0\n",
       "Pete      1.0  1.0  1.0  1.0  1.0  0.0\n",
       "Sara      1.0  1.0  1.0  1.0  1.0  1.0\n",
       "Sean      0.0  0.0  1.0  1.0  0.0  0.0\n",
       "Sue       1.0  0.0  0.0  0.0  1.0  0.0"
      ]
     },
     "execution_count": 68,
     "metadata": {},
     "output_type": "execute_result"
    }
   ],
   "source": [
    "resource_case_matrix[resource_case_matrix>1]=1\n",
    "resource_case_matrix"
   ]
  },
  {
   "cell_type": "markdown",
   "metadata": {},
   "source": [
    "### Clustering of resource-case profiles based on Euclidian distances"
   ]
  },
  {
   "cell_type": "code",
   "execution_count": 57,
   "metadata": {},
   "outputs": [
    {
     "data": {
      "text/html": [
       "<div>\n",
       "<style scoped>\n",
       "    .dataframe tbody tr th:only-of-type {\n",
       "        vertical-align: middle;\n",
       "    }\n",
       "\n",
       "    .dataframe tbody tr th {\n",
       "        vertical-align: top;\n",
       "    }\n",
       "\n",
       "    .dataframe thead th {\n",
       "        text-align: right;\n",
       "    }\n",
       "</style>\n",
       "<table border=\"1\" class=\"dataframe\">\n",
       "  <thead>\n",
       "    <tr style=\"text-align: right;\">\n",
       "      <th>Resource</th>\n",
       "      <th>Ellen</th>\n",
       "      <th>Mike</th>\n",
       "      <th>Pete</th>\n",
       "      <th>Sara</th>\n",
       "      <th>Sean</th>\n",
       "      <th>Sue</th>\n",
       "    </tr>\n",
       "    <tr>\n",
       "      <th>Resource</th>\n",
       "      <th></th>\n",
       "      <th></th>\n",
       "      <th></th>\n",
       "      <th></th>\n",
       "      <th></th>\n",
       "      <th></th>\n",
       "    </tr>\n",
       "  </thead>\n",
       "  <tbody>\n",
       "    <tr>\n",
       "      <th>Ellen</th>\n",
       "      <td>0.000000</td>\n",
       "      <td>1.0</td>\n",
       "      <td>1.414214</td>\n",
       "      <td>1.0</td>\n",
       "      <td>1.732051</td>\n",
       "      <td>2.236068</td>\n",
       "    </tr>\n",
       "    <tr>\n",
       "      <th>Mike</th>\n",
       "      <td>1.000000</td>\n",
       "      <td>0.0</td>\n",
       "      <td>1.000000</td>\n",
       "      <td>0.0</td>\n",
       "      <td>2.000000</td>\n",
       "      <td>2.000000</td>\n",
       "    </tr>\n",
       "    <tr>\n",
       "      <th>Pete</th>\n",
       "      <td>1.414214</td>\n",
       "      <td>1.0</td>\n",
       "      <td>0.000000</td>\n",
       "      <td>1.0</td>\n",
       "      <td>1.732051</td>\n",
       "      <td>1.732051</td>\n",
       "    </tr>\n",
       "    <tr>\n",
       "      <th>Sara</th>\n",
       "      <td>1.000000</td>\n",
       "      <td>0.0</td>\n",
       "      <td>1.000000</td>\n",
       "      <td>0.0</td>\n",
       "      <td>2.000000</td>\n",
       "      <td>2.000000</td>\n",
       "    </tr>\n",
       "    <tr>\n",
       "      <th>Sean</th>\n",
       "      <td>1.732051</td>\n",
       "      <td>2.0</td>\n",
       "      <td>1.732051</td>\n",
       "      <td>2.0</td>\n",
       "      <td>0.000000</td>\n",
       "      <td>2.000000</td>\n",
       "    </tr>\n",
       "    <tr>\n",
       "      <th>Sue</th>\n",
       "      <td>2.236068</td>\n",
       "      <td>2.0</td>\n",
       "      <td>1.732051</td>\n",
       "      <td>2.0</td>\n",
       "      <td>2.000000</td>\n",
       "      <td>0.000000</td>\n",
       "    </tr>\n",
       "  </tbody>\n",
       "</table>\n",
       "</div>"
      ],
      "text/plain": [
       "Resource     Ellen  Mike      Pete  Sara      Sean       Sue\n",
       "Resource                                                    \n",
       "Ellen     0.000000   1.0  1.414214   1.0  1.732051  2.236068\n",
       "Mike      1.000000   0.0  1.000000   0.0  2.000000  2.000000\n",
       "Pete      1.414214   1.0  0.000000   1.0  1.732051  1.732051\n",
       "Sara      1.000000   0.0  1.000000   0.0  2.000000  2.000000\n",
       "Sean      1.732051   2.0  1.732051   2.0  0.000000  2.000000\n",
       "Sue       2.236068   2.0  1.732051   2.0  2.000000  0.000000"
      ]
     },
     "execution_count": 57,
     "metadata": {},
     "output_type": "execute_result"
    }
   ],
   "source": [
    "# calculate euclidean distances between resources for resource-case profiles\n",
    "distances_case_eucl = pdist(resource_case_matrix, metric='euclidean')\n",
    "distances_case_eucl = squareform(distances_case_eucl)\n",
    "distances_case_eucl = pd.DataFrame(distances_case_eucl, index=resource_case_matrix.index, columns=resource_case_matrix.index)\n",
    "distances_case_eucl"
   ]
  },
  {
   "cell_type": "code",
   "execution_count": 69,
   "metadata": {},
   "outputs": [
    {
     "data": {
      "text/html": [
       "<div>\n",
       "<style scoped>\n",
       "    .dataframe tbody tr th:only-of-type {\n",
       "        vertical-align: middle;\n",
       "    }\n",
       "\n",
       "    .dataframe tbody tr th {\n",
       "        vertical-align: top;\n",
       "    }\n",
       "\n",
       "    .dataframe thead th {\n",
       "        text-align: right;\n",
       "    }\n",
       "</style>\n",
       "<table border=\"1\" class=\"dataframe\">\n",
       "  <thead>\n",
       "    <tr style=\"text-align: right;\">\n",
       "      <th>Resource</th>\n",
       "      <th>Ellen</th>\n",
       "      <th>Mike</th>\n",
       "      <th>Pete</th>\n",
       "      <th>Sara</th>\n",
       "      <th>Sean</th>\n",
       "      <th>Sue</th>\n",
       "    </tr>\n",
       "    <tr>\n",
       "      <th>Resource</th>\n",
       "      <th></th>\n",
       "      <th></th>\n",
       "      <th></th>\n",
       "      <th></th>\n",
       "      <th></th>\n",
       "      <th></th>\n",
       "    </tr>\n",
       "  </thead>\n",
       "  <tbody>\n",
       "    <tr>\n",
       "      <th>Ellen</th>\n",
       "      <td>inf</td>\n",
       "      <td>1.0</td>\n",
       "      <td>0.707107</td>\n",
       "      <td>1.0</td>\n",
       "      <td>0.57735</td>\n",
       "      <td>0.447214</td>\n",
       "    </tr>\n",
       "    <tr>\n",
       "      <th>Mike</th>\n",
       "      <td>1.000000</td>\n",
       "      <td>inf</td>\n",
       "      <td>1.000000</td>\n",
       "      <td>inf</td>\n",
       "      <td>0.50000</td>\n",
       "      <td>0.500000</td>\n",
       "    </tr>\n",
       "    <tr>\n",
       "      <th>Pete</th>\n",
       "      <td>0.707107</td>\n",
       "      <td>1.0</td>\n",
       "      <td>inf</td>\n",
       "      <td>1.0</td>\n",
       "      <td>0.57735</td>\n",
       "      <td>0.577350</td>\n",
       "    </tr>\n",
       "    <tr>\n",
       "      <th>Sara</th>\n",
       "      <td>1.000000</td>\n",
       "      <td>inf</td>\n",
       "      <td>1.000000</td>\n",
       "      <td>inf</td>\n",
       "      <td>0.50000</td>\n",
       "      <td>0.500000</td>\n",
       "    </tr>\n",
       "    <tr>\n",
       "      <th>Sean</th>\n",
       "      <td>0.577350</td>\n",
       "      <td>0.5</td>\n",
       "      <td>0.577350</td>\n",
       "      <td>0.5</td>\n",
       "      <td>inf</td>\n",
       "      <td>0.500000</td>\n",
       "    </tr>\n",
       "    <tr>\n",
       "      <th>Sue</th>\n",
       "      <td>0.447214</td>\n",
       "      <td>0.5</td>\n",
       "      <td>0.577350</td>\n",
       "      <td>0.5</td>\n",
       "      <td>0.50000</td>\n",
       "      <td>inf</td>\n",
       "    </tr>\n",
       "  </tbody>\n",
       "</table>\n",
       "</div>"
      ],
      "text/plain": [
       "Resource     Ellen  Mike      Pete  Sara     Sean       Sue\n",
       "Resource                                                   \n",
       "Ellen          inf   1.0  0.707107   1.0  0.57735  0.447214\n",
       "Mike      1.000000   inf  1.000000   inf  0.50000  0.500000\n",
       "Pete      0.707107   1.0       inf   1.0  0.57735  0.577350\n",
       "Sara      1.000000   inf  1.000000   inf  0.50000  0.500000\n",
       "Sean      0.577350   0.5  0.577350   0.5      inf  0.500000\n",
       "Sue       0.447214   0.5  0.577350   0.5  0.50000       inf"
      ]
     },
     "execution_count": 69,
     "metadata": {},
     "output_type": "execute_result"
    }
   ],
   "source": [
    "# calculate similarity by invertion of distances_case_eucl (ignore diagonal)\n",
    "similarity_case_eucl = 1/distances_case_eucl\n",
    "similarity_case_eucl"
   ]
  },
  {
   "cell_type": "code",
   "execution_count": 70,
   "metadata": {},
   "outputs": [
    {
     "data": {
      "text/html": [
       "<div>\n",
       "<style scoped>\n",
       "    .dataframe tbody tr th:only-of-type {\n",
       "        vertical-align: middle;\n",
       "    }\n",
       "\n",
       "    .dataframe tbody tr th {\n",
       "        vertical-align: top;\n",
       "    }\n",
       "\n",
       "    .dataframe thead th {\n",
       "        text-align: right;\n",
       "    }\n",
       "</style>\n",
       "<table border=\"1\" class=\"dataframe\">\n",
       "  <thead>\n",
       "    <tr style=\"text-align: right;\">\n",
       "      <th>Resource</th>\n",
       "      <th>Ellen</th>\n",
       "      <th>Mike</th>\n",
       "      <th>Pete</th>\n",
       "      <th>Sara</th>\n",
       "      <th>Sean</th>\n",
       "      <th>Sue</th>\n",
       "    </tr>\n",
       "    <tr>\n",
       "      <th>Resource</th>\n",
       "      <th></th>\n",
       "      <th></th>\n",
       "      <th></th>\n",
       "      <th></th>\n",
       "      <th></th>\n",
       "      <th></th>\n",
       "    </tr>\n",
       "  </thead>\n",
       "  <tbody>\n",
       "    <tr>\n",
       "      <th>Ellen</th>\n",
       "      <td>0.000000</td>\n",
       "      <td>1.0</td>\n",
       "      <td>0.707107</td>\n",
       "      <td>1.0</td>\n",
       "      <td>0.0</td>\n",
       "      <td>0.0</td>\n",
       "    </tr>\n",
       "    <tr>\n",
       "      <th>Mike</th>\n",
       "      <td>1.000000</td>\n",
       "      <td>0.0</td>\n",
       "      <td>1.000000</td>\n",
       "      <td>2.0</td>\n",
       "      <td>0.0</td>\n",
       "      <td>0.0</td>\n",
       "    </tr>\n",
       "    <tr>\n",
       "      <th>Pete</th>\n",
       "      <td>0.707107</td>\n",
       "      <td>1.0</td>\n",
       "      <td>0.000000</td>\n",
       "      <td>1.0</td>\n",
       "      <td>0.0</td>\n",
       "      <td>0.0</td>\n",
       "    </tr>\n",
       "    <tr>\n",
       "      <th>Sara</th>\n",
       "      <td>1.000000</td>\n",
       "      <td>2.0</td>\n",
       "      <td>1.000000</td>\n",
       "      <td>0.0</td>\n",
       "      <td>0.0</td>\n",
       "      <td>0.0</td>\n",
       "    </tr>\n",
       "    <tr>\n",
       "      <th>Sean</th>\n",
       "      <td>0.000000</td>\n",
       "      <td>0.0</td>\n",
       "      <td>0.000000</td>\n",
       "      <td>0.0</td>\n",
       "      <td>0.0</td>\n",
       "      <td>0.0</td>\n",
       "    </tr>\n",
       "    <tr>\n",
       "      <th>Sue</th>\n",
       "      <td>0.000000</td>\n",
       "      <td>0.0</td>\n",
       "      <td>0.000000</td>\n",
       "      <td>0.0</td>\n",
       "      <td>0.0</td>\n",
       "      <td>0.0</td>\n",
       "    </tr>\n",
       "  </tbody>\n",
       "</table>\n",
       "</div>"
      ],
      "text/plain": [
       "Resource     Ellen  Mike      Pete  Sara  Sean  Sue\n",
       "Resource                                           \n",
       "Ellen     0.000000   1.0  0.707107   1.0   0.0  0.0\n",
       "Mike      1.000000   0.0  1.000000   2.0   0.0  0.0\n",
       "Pete      0.707107   1.0  0.000000   1.0   0.0  0.0\n",
       "Sara      1.000000   2.0  1.000000   0.0   0.0  0.0\n",
       "Sean      0.000000   0.0  0.000000   0.0   0.0  0.0\n",
       "Sue       0.000000   0.0  0.000000   0.0   0.0  0.0"
      ]
     },
     "execution_count": 70,
     "metadata": {},
     "output_type": "execute_result"
    }
   ],
   "source": [
    "\n",
    "similarity_case_eucl = similarity_case_eucl - np.diag(np.diag(similarity_case_eucl))\n",
    "# replace inf with 2 (arbitrary strongest similarity)\n",
    "similarity_case_eucl.replace(np.inf, 2, inplace=True)\n",
    "# replace nan with 0\n",
    "similarity_case_eucl.fillna(0, inplace=True)\n",
    "# replace all values > .6 with 0\n",
    "similarity_case_eucl[similarity_case_eucl < .6] = 0\n",
    "similarity_case_eucl\n"
   ]
  },
  {
   "cell_type": "code",
   "execution_count": 64,
   "metadata": {},
   "outputs": [
    {
     "data": {
      "image/png": "[encoded data removed]",
      "text/plain": [
       "<Figure size 640x480 with 1 Axes>"
      ]
     },
     "metadata": {},
     "output_type": "display_data"
    }
   ],
   "source": [
    "# depict distances as network with networkx\n",
    "G_case = nx.from_numpy_matrix(similarity_case_eucl.values)    \n",
    "G_case = nx.relabel_nodes(G_case, dict(zip(range(len(similarity_case_eucl.index)), similarity_case_eucl.index)))\n",
    "nx.draw(G_case, with_labels=True, node_size=500, font_size=8)"
   ]
  },
  {
   "cell_type": "code",
   "execution_count": 65,
   "metadata": {},
   "outputs": [
    {
     "name": "stdout",
     "output_type": "stream",
     "text": [
      "[('Ellen', 0), ('Mike', 0), ('Pete', 0), ('Sara', 0), ('Sean', 2), ('Sue', 1)]\n"
     ]
    }
   ],
   "source": [
    "# cluster analysis on resource_activity_matrix_norm\n",
    "clustering_case = AgglomerativeClustering(n_clusters=3, affinity='euclidean', linkage='average').fit(resource_case_matrix)\n",
    "print(list(zip(list(resource_case_matrix.index), clustering_case.labels_)))"
   ]
  },
  {
   "cell_type": "code",
   "execution_count": 76,
   "metadata": {},
   "outputs": [],
   "source": [
    "eventlog = events.copy()\n",
    "### Specify which columns correspond to case (case:concept:name), \n",
    "###event (concept:name) and timestamp (time:timestamp) - rename columns in accordance\n",
    "###with pm4py\n",
    "\n",
    "eventlog.rename(columns={'Timestamp': 'time:timestamp', 'Case_ID': 'case:concept:name', 'Activity': 'concept:name', 'Resource': 'org:resource'}, inplace=True)\n",
    "\n",
    "## Convert to log format\n",
    "log = log_converter.apply(eventlog)\n"
   ]
  },
  {
   "cell_type": "code",
   "execution_count": 96,
   "metadata": {},
   "outputs": [
    {
     "data": {
      "text/plain": [
       "{('a_register_request', 'b_examine_thoroughly'),\n",
       " ('a_register_request', 'c_examine_casually'),\n",
       " ('a_register_request', 'd_check_ticket'),\n",
       " ('b_examine_thoroughly', 'e_decide'),\n",
       " ('c_examine_casually', 'e_decide'),\n",
       " ('d_check_ticket', 'e_decide'),\n",
       " ('e_decide', 'f_reinitiate_request'),\n",
       " ('e_decide', 'g_pay_compensation'),\n",
       " ('e_decide', 'h_reject_request'),\n",
       " ('f_reinitiate_request', 'b_examine_thoroughly'),\n",
       " ('f_reinitiate_request', 'd_check_ticket')}"
      ]
     },
     "execution_count": 96,
     "metadata": {},
     "output_type": "execute_result"
    }
   ],
   "source": [
    "# footprint\n",
    "from pm4py.algo.discovery.footprints import algorithm as footprints_discovery\n",
    "footprint = footprints_discovery.apply(log, variant=footprints_discovery.Variants.ENTIRE_EVENT_LOG)\n",
    "footprint['sequence']\n",
    "\n",
    "\n"
   ]
  },
  {
   "cell_type": "code",
   "execution_count": 103,
   "metadata": {},
   "outputs": [
    {
     "data": {
      "image/png": "[encoded data removed]",
      "text/plain": [
       "<IPython.core.display.Image object>"
      ]
     },
     "metadata": {},
     "output_type": "display_data"
    }
   ],
   "source": [
    "from pm4py.visualization.footprints import visualizer as fp_visualizer\n",
    "\n",
    "gviz = fp_visualizer.apply(footprint)\n",
    "fp_visualizer.view(gviz)"
   ]
  },
  {
   "cell_type": "code",
   "execution_count": 79,
   "metadata": {},
   "outputs": [],
   "source": [
    "hw_values = pm4py.discover_handover_of_work_network(log)"
   ]
  },
  {
   "cell_type": "code",
   "execution_count": 80,
   "metadata": {},
   "outputs": [
    {
     "data": {
      "text/plain": [
       "[array([[0.        , 0.08333333, 0.        , 0.02777778, 0.        ,\n",
       "         0.        ],\n",
       "        [0.05555556, 0.02777778, 0.05555556, 0.08333333, 0.02777778,\n",
       "         0.        ],\n",
       "        [0.        , 0.05555556, 0.        , 0.11111111, 0.        ,\n",
       "         0.02777778],\n",
       "        [0.11111111, 0.05555556, 0.02777778, 0.08333333, 0.02777778,\n",
       "         0.02777778],\n",
       "        [0.        , 0.        , 0.02777778, 0.02777778, 0.        ,\n",
       "         0.        ],\n",
       "        [0.        , 0.02777778, 0.02777778, 0.        , 0.        ,\n",
       "         0.        ]]),\n",
       " ['Ellen', 'Mike', 'Pete', 'Sara', 'Sean', 'Sue'],\n",
       " True]"
      ]
     },
     "execution_count": 80,
     "metadata": {},
     "output_type": "execute_result"
    }
   ],
   "source": [
    "hw_values"
   ]
  },
  {
   "cell_type": "code",
   "execution_count": 130,
   "metadata": {},
   "outputs": [
    {
     "data": {
      "text/html": [
       "<div>\n",
       "<style scoped>\n",
       "    .dataframe tbody tr th:only-of-type {\n",
       "        vertical-align: middle;\n",
       "    }\n",
       "\n",
       "    .dataframe tbody tr th {\n",
       "        vertical-align: top;\n",
       "    }\n",
       "\n",
       "    .dataframe thead th {\n",
       "        text-align: right;\n",
       "    }\n",
       "</style>\n",
       "<table border=\"1\" class=\"dataframe\">\n",
       "  <thead>\n",
       "    <tr style=\"text-align: right;\">\n",
       "      <th></th>\n",
       "      <th>Ellen</th>\n",
       "      <th>Mike</th>\n",
       "      <th>Pete</th>\n",
       "      <th>Sara</th>\n",
       "      <th>Sean</th>\n",
       "      <th>Sue</th>\n",
       "    </tr>\n",
       "  </thead>\n",
       "  <tbody>\n",
       "    <tr>\n",
       "      <th>Ellen</th>\n",
       "      <td>0.000000</td>\n",
       "      <td>0.083333</td>\n",
       "      <td>0.000000</td>\n",
       "      <td>0.027778</td>\n",
       "      <td>0.000000</td>\n",
       "      <td>0.000000</td>\n",
       "    </tr>\n",
       "    <tr>\n",
       "      <th>Mike</th>\n",
       "      <td>0.055556</td>\n",
       "      <td>0.027778</td>\n",
       "      <td>0.055556</td>\n",
       "      <td>0.083333</td>\n",
       "      <td>0.027778</td>\n",
       "      <td>0.000000</td>\n",
       "    </tr>\n",
       "    <tr>\n",
       "      <th>Pete</th>\n",
       "      <td>0.000000</td>\n",
       "      <td>0.055556</td>\n",
       "      <td>0.000000</td>\n",
       "      <td>0.111111</td>\n",
       "      <td>0.000000</td>\n",
       "      <td>0.027778</td>\n",
       "    </tr>\n",
       "    <tr>\n",
       "      <th>Sara</th>\n",
       "      <td>0.111111</td>\n",
       "      <td>0.055556</td>\n",
       "      <td>0.027778</td>\n",
       "      <td>0.083333</td>\n",
       "      <td>0.027778</td>\n",
       "      <td>0.027778</td>\n",
       "    </tr>\n",
       "    <tr>\n",
       "      <th>Sean</th>\n",
       "      <td>0.000000</td>\n",
       "      <td>0.000000</td>\n",
       "      <td>0.027778</td>\n",
       "      <td>0.027778</td>\n",
       "      <td>0.000000</td>\n",
       "      <td>0.000000</td>\n",
       "    </tr>\n",
       "    <tr>\n",
       "      <th>Sue</th>\n",
       "      <td>0.000000</td>\n",
       "      <td>0.027778</td>\n",
       "      <td>0.027778</td>\n",
       "      <td>0.000000</td>\n",
       "      <td>0.000000</td>\n",
       "      <td>0.000000</td>\n",
       "    </tr>\n",
       "  </tbody>\n",
       "</table>\n",
       "</div>"
      ],
      "text/plain": [
       "          Ellen      Mike      Pete      Sara      Sean       Sue\n",
       "Ellen  0.000000  0.083333  0.000000  0.027778  0.000000  0.000000\n",
       "Mike   0.055556  0.027778  0.055556  0.083333  0.027778  0.000000\n",
       "Pete   0.000000  0.055556  0.000000  0.111111  0.000000  0.027778\n",
       "Sara   0.111111  0.055556  0.027778  0.083333  0.027778  0.027778\n",
       "Sean   0.000000  0.000000  0.027778  0.027778  0.000000  0.000000\n",
       "Sue    0.000000  0.027778  0.027778  0.000000  0.000000  0.000000"
      ]
     },
     "execution_count": 130,
     "metadata": {},
     "output_type": "execute_result"
    }
   ],
   "source": [
    "pd.DataFrame(hw_values[0], index=hw_values[1], columns=hw_values[1])"
   ]
  },
  {
   "cell_type": "code",
   "execution_count": 131,
   "metadata": {},
   "outputs": [
    {
     "data": {
      "image/png": "[encoded data removed]",
      "text/plain": [
       "<Figure size 640x480 with 1 Axes>"
      ]
     },
     "metadata": {},
     "output_type": "display_data"
    }
   ],
   "source": [
    "# depict distances as network with networkx\n",
    "G_hw = nx.from_numpy_array(hw_values[0], create_using=nx.DiGraph)\n",
    "G_hw = nx.relabel_nodes(G_hw, dict(zip(range(len(hw_values[1])), hw_values[1])))\n",
    "mywidth = [i * 40 for i in list(nx.get_edge_attributes(G_hw,'weight').values())]\n",
    "nx.draw(G_hw, with_labels=True, node_size=500, font_size=8, width=mywidth)\n"
   ]
  },
  {
   "cell_type": "code",
   "execution_count": 137,
   "metadata": {},
   "outputs": [
    {
     "data": {
      "text/plain": [
       "{'Ellen': 0.8,\n",
       " 'Mike': 2.0,\n",
       " 'Pete': 1.4000000000000001,\n",
       " 'Sara': 2.2,\n",
       " 'Sean': 0.8,\n",
       " 'Sue': 0.8}"
      ]
     },
     "execution_count": 137,
     "metadata": {},
     "output_type": "execute_result"
    }
   ],
   "source": [
    "# degree centrality for edges in G_hw\n",
    "nx.degree_centrality(G_hw)"
   ]
  },
  {
   "cell_type": "code",
   "execution_count": 139,
   "metadata": {},
   "outputs": [
    {
     "data": {
      "text/plain": [
       "{'Ellen': 0.0,\n",
       " 'Mike': 0.225,\n",
       " 'Pete': 0.1,\n",
       " 'Sara': 0.275,\n",
       " 'Sean': 0.0,\n",
       " 'Sue': 0.0}"
      ]
     },
     "execution_count": 139,
     "metadata": {},
     "output_type": "execute_result"
    }
   ],
   "source": [
    "nx.betweenness_centrality(G_hw)"
   ]
  }
 ],
 "metadata": {
  "kernelspec": {
   "display_name": "base",
   "language": "python",
   "name": "python3"
  },
  "language_info": {
   "codemirror_mode": {
    "name": "ipython",
    "version": 3
   },
   "file_extension": ".py",
   "mimetype": "text/x-python",
   "name": "python",
   "nbconvert_exporter": "python",
   "pygments_lexer": "ipython3",
   "version": "3.7.3"
  },
  "vscode": {
   "interpreter": {
    "hash": "deb4792152b8b9767403eeef0a1b0f34b83d442136ccee9184cd7d1131f09aa0"
   }
  }
 },
 "nbformat": 4,
 "nbformat_minor": 2
}
