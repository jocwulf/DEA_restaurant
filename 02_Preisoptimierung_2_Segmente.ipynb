{
 "cells": [
  {
   "cell_type": "markdown",
   "id": "0bd87fd3",
   "metadata": {},
   "source": [
    "# Preisoptimierung mit 2 Segmenten"
   ]
  },
  {
   "cell_type": "code",
   "execution_count": 1,
   "id": "c8fc9f14",
   "metadata": {},
   "outputs": [],
   "source": [
    "# package: scipy.optimize\n",
    "# https://docs.scipy.org/doc/scipy/reference/optimize.html\n",
    "# https://docs.scipy.org/doc/scipy/tutorial/optimize.html\n",
    "# https://stackoverflow.com/questions/13670333/multiple-variables-in-scipys-optimize-minimize"
   ]
  },
  {
   "cell_type": "code",
   "execution_count": 2,
   "id": "3d66789a",
   "metadata": {},
   "outputs": [],
   "source": [
    "import numpy as np\n",
    "import scipy.optimize as optimize"
   ]
  },
  {
   "cell_type": "code",
   "execution_count": 3,
   "id": "71332971",
   "metadata": {},
   "outputs": [],
   "source": [
    "# case mit 2 klassen"
   ]
  },
  {
   "cell_type": "code",
   "execution_count": 4,
   "id": "4dc07b7b",
   "metadata": {},
   "outputs": [],
   "source": [
    "# demand function and variable cost\n",
    "a=100\n",
    "b=0.1\n",
    "c=200"
   ]
  },
  {
   "cell_type": "code",
   "execution_count": 5,
   "id": "845c41cf",
   "metadata": {},
   "outputs": [],
   "source": [
    "# gewinnfunktion mit 2 segmenten\n",
    "def f1(params):   \n",
    "    r1, r2 = params\n",
    "    # helper function demand to read out the demand for a set price\n",
    "    def demand(x):\n",
    "        return a-b*x\n",
    "    return -((r1-c)*demand(r1) + (r2-c)*(demand(r2)-demand(r1))) # negative value because we need to minimize"
   ]
  },
  {
   "cell_type": "code",
   "execution_count": 6,
   "id": "bae18169",
   "metadata": {},
   "outputs": [
    {
     "name": "stdout",
     "output_type": "stream",
     "text": [
      "Optimal prices: [733.33360731 466.66693298]\n",
      "Maximized revenue: 21333.33333332603\n"
     ]
    }
   ],
   "source": [
    "initial_guess = [2, 1]\n",
    "result = optimize.minimize(f1, initial_guess)\n",
    "if result.success:\n",
    "    fitted_params = result.x\n",
    "    print(\"Optimal prices: {}\".format(fitted_params))\n",
    "    print(\"Maximized revenue: {}\".format(-1*result.fun))\n",
    "else:\n",
    "    raise ValueError(result.message)"
   ]
  }
 ],
 "metadata": {
  "kernelspec": {
   "display_name": "Python 3 (ipykernel)",
   "language": "python",
   "name": "python3"
  },
  "language_info": {
   "codemirror_mode": {
    "name": "ipython",
    "version": 3
   },
   "file_extension": ".py",
   "mimetype": "text/x-python",
   "name": "python",
   "nbconvert_exporter": "python",
   "pygments_lexer": "ipython3",
   "version": "3.7.3"
  }
 },
 "nbformat": 4,
 "nbformat_minor": 5
}
